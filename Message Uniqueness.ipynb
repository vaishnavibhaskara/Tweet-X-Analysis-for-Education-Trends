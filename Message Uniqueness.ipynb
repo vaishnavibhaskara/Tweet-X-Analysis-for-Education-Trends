{
 "cells": [
  {
   "cell_type": "code",
   "execution_count": 1,
   "id": "8b6bfc67-b722-4bd1-9dae-f44c503c9339",
   "metadata": {},
   "outputs": [],
   "source": [
    "import os\n",
    "import shutil\n",
    "import pandas as pd\n",
    "from pyspark.sql.functions import *\n",
    "from pyspark.sql.types import *"
   ]
  },
  {
   "cell_type": "code",
   "execution_count": 2,
   "id": "057b3874-8ec0-4f2e-b11c-295ff6f2e685",
   "metadata": {},
   "outputs": [
    {
     "name": "stdout",
     "output_type": "stream",
     "text": [
      "Requirement already satisfied: nltk==3.7 in /opt/conda/miniconda3/lib/python3.8/site-packages (3.7)\n",
      "Requirement already satisfied: regex>=2021.8.3 in /opt/conda/miniconda3/lib/python3.8/site-packages (from nltk==3.7) (2022.10.31)\n",
      "Requirement already satisfied: joblib in /opt/conda/miniconda3/lib/python3.8/site-packages (from nltk==3.7) (1.2.0)\n",
      "Requirement already satisfied: click in /opt/conda/miniconda3/lib/python3.8/site-packages (from nltk==3.7) (7.1.2)\n",
      "Requirement already satisfied: tqdm in /opt/conda/miniconda3/lib/python3.8/site-packages (from nltk==3.7) (4.64.1)\n",
      "\u001b[33mWARNING: Running pip as the 'root' user can result in broken permissions and conflicting behaviour with the system package manager. It is recommended to use a virtual environment instead: https://pip.pypa.io/warnings/venv\u001b[0m\u001b[33m\n",
      "\u001b[0m"
     ]
    },
    {
     "name": "stderr",
     "output_type": "stream",
     "text": [
      "[nltk_data] Downloading package stopwords to /root/nltk_data...\n",
      "[nltk_data]   Package stopwords is already up-to-date!\n"
     ]
    },
    {
     "data": {
      "text/plain": [
       "True"
      ]
     },
     "execution_count": 2,
     "metadata": {},
     "output_type": "execute_result"
    }
   ],
   "source": [
    "!pip install nltk==3.7\n",
    "import re\n",
    "from pyspark.ml.feature import MinHashLSH\n",
    "from pyspark.ml.feature import CountVectorizer,  IDF, CountVectorizerModel, Tokenizer, RegexTokenizer, StopWordsRemover\n",
    "import nltk\n",
    "from nltk.corpus import stopwords\n",
    "nltk.download('stopwords')"
   ]
  },
  {
   "cell_type": "code",
   "execution_count": 3,
   "id": "12d9fd2a-e1ae-4067-8c17-2986dedccec0",
   "metadata": {},
   "outputs": [],
   "source": [
    "from pyspark.sql.functions import monotonically_increasing_id, row_number\n",
    "from pyspark.sql.window import Window\n",
    "pd.set_option(\"display.max_colwidth\",None)\n",
    "from google.cloud import storage\n",
    "from pyspark.sql import Row"
   ]
  },
  {
   "cell_type": "code",
   "execution_count": 4,
   "id": "a246ad54-a703-4835-8543-39a4af5841fb",
   "metadata": {},
   "outputs": [],
   "source": [
    "import numpy as np\n",
    "import seaborn as sns\n",
    "import matplotlib.pyplot as plt\n",
    "spark = SparkSession.builder.getOrCreate()\n",
    "spark.conf.set(\"spark.sql.repl.eagerEval.enabled\",True)"
   ]
  },
  {
   "cell_type": "code",
   "execution_count": 5,
   "id": "cefc1733-a701-4773-a037-183524198ecf",
   "metadata": {},
   "outputs": [
    {
     "name": "stderr",
     "output_type": "stream",
     "text": [
      "23/03/07 23:06:06 WARN org.apache.spark.sql.catalyst.util.package: Truncated the string representation of a plan since it was too large. This behavior can be adjusted by setting 'spark.sql.debug.maxToStringFields'.\n"
     ]
    }
   ],
   "source": [
    "filtered=spark.read.parquet('gs://msca-bdp-students-bucket/shared_data/sirivanth/new_filtered')"
   ]
  },
  {
   "cell_type": "code",
   "execution_count": 6,
   "id": "c0ba7611-734d-44c4-9487-ec9b4b2df720",
   "metadata": {},
   "outputs": [],
   "source": [
    "filtered.createOrReplaceTempView(\"filtered\")"
   ]
  },
  {
   "cell_type": "code",
   "execution_count": 7,
   "id": "408afb0d-53d2-4c13-a20f-80ef3296c795",
   "metadata": {},
   "outputs": [],
   "source": [
    "query = '''select tweet_text as text,\n",
    "retweeted_status.id as r_status_id,\n",
    "user.description as Description\n",
    "from filtered'''\n",
    "a = spark.sql(query)"
   ]
  },
  {
   "cell_type": "code",
   "execution_count": 8,
   "id": "8e565ca1-457a-428c-8496-d4079eefbf43",
   "metadata": {},
   "outputs": [],
   "source": [
    "#filtered.count()"
   ]
  },
  {
   "cell_type": "code",
   "execution_count": 9,
   "id": "5c32de75-439d-4034-974c-a604d5528fe1",
   "metadata": {},
   "outputs": [],
   "source": [
    "a = a.sample(0.005)"
   ]
  },
  {
   "cell_type": "code",
   "execution_count": 10,
   "id": "e7389094-f5e5-4d8a-b62f-6e4cb9b22529",
   "metadata": {},
   "outputs": [],
   "source": [
    "a = a.withColumn(\"Organisation\",when(col(\"Description\").rlike('.*republic.*|.*congress.*|.*parliament.*|.*senat.*|.*president.*|.*democr.*|.*prime minister.*|.*Government.*|.*MLA.*|.*mla.*|.*gov.*|.*u.s..*|.*U.S..*|.*US.*|.*united states.*|.*government.*'),\"Government\")\n",
    "                .when(col(\"Description\").rlike('.*University.*|.*university.*|.*school.*|.*School.*|.*research.*|.*teaching.*|.*college.*|.*edu.*|.*graduate.*|.*undergraduate.*|.*bachelorsdegree.*|.*Bachelorsdegree.*|.*degree.*|.*Degree.*'),\"Education\")\n",
    "                .when(col(\"Description\").rlike('.*News.*|.*news.*|.*Media.*|.*media.*|.*journal.*|.*podcasts.*|.*podcast.*'),\"News\")\n",
    "                .when(col(\"Description\").rlike('.*nonprofit.*|.*Nonprofit.*|.*NGO.*|.*ngo.*|.*volunteers.*|.*Volunteers.*|.*Fundraising.*|.*fundraising.*|.*Charity.*|.*charity.*'),\"NGO\")\n",
    "                .when(col(\"Description\").rlike('.*influencer.*|.*Influencer.*|.*author.*|.*actress.*|.*musician.*|.*singer.*|.*crickter.*|.*Actor.*|.*actor.*|.*Actress.*|.*Cricter.*'),\"Celebrity\")\n",
    "                .otherwise(\"Someone else\"))                                                           "
   ]
  },
  {
   "cell_type": "code",
   "execution_count": 11,
   "id": "bf3af975-5297-47f5-85ea-d1993cb13cf4",
   "metadata": {},
   "outputs": [],
   "source": [
    "df = a.withColumn(\"tweet_type\",when(col(\"r_status_id\").isNull() != True,\"retweet\").otherwise(\"tweet\"))"
   ]
  },
  {
   "cell_type": "code",
   "execution_count": 12,
   "id": "ad5f6d7c-ec48-4029-9020-1fbe37b3d52e",
   "metadata": {},
   "outputs": [
    {
     "name": "stderr",
     "output_type": "stream",
     "text": [
      "[Stage 1:>                                                          (0 + 1) / 1]\r"
     ]
    },
    {
     "name": "stdout",
     "output_type": "stream",
     "text": [
      "+--------------------+-------------------+--------------------+------------+----------+\n",
      "|                text|        r_status_id|         Description|Organisation|tweet_type|\n",
      "+--------------------+-------------------+--------------------+------------+----------+\n",
      "|ngl leaving colle...|1556729557029335040|Pansexual Soy Lat...|Someone else|   retweet|\n",
      "|dr andrew’s offer...|1556393884577665026|Husband, father, ...|Someone else|   retweet|\n",
      "|so school stuff, ...|1556510954870882306|Call me Motts\n",
      "|Th...|Someone else|   retweet|\n",
      "|not a single soul...|1604653808054935553|          she/her\n",
      "💙|Someone else|   retweet|\n",
      "|mitch mcconnell i...|1605198557098971136|Original intent o...|Someone else|   retweet|\n",
      "|🚨 our online #pc...|1562441486746398721|Pennsylvania Coll...|  Government|   retweet|\n",
      "|arizona state uni...|1620534812258996224|                null|Someone else|   retweet|\n",
      "|dropped almost 2....|               null|If it makes you h...|Someone else|     tweet|\n",
      "|senator shettima ...|1612894437931188224|Young entrepreneu...|Someone else|   retweet|\n",
      "|@nickafterhack @l...|               null|All lives SHOULD ...|Someone else|     tweet|\n",
      "|on wednesday, @wv...|1570491449086742528|Husband, Father, ...|Someone else|   retweet|\n",
      "|2022-23 #bestcoll...|1569337970292916224|Salem College is ...|   Education|   retweet|\n",
      "|i'm 34, 🇨🇦 born...|1570273984553562113|🇳🇱 just an crea...|Someone else|   retweet|\n",
      "|#okstate heavywei...|1521630399474151425|Match updates, to...|Someone else|   retweet|\n",
      "|thread: my profes...|1521633298069397505|Writer/Musician. ...|Someone else|   retweet|\n",
      "|statistically onl...|1521597328444035073|longlivekendell🕊...|Someone else|   retweet|\n",
      "|@ericmmatheny jus...|1553507428054216704|A Deplorable tryi...|Someone else|   retweet|\n",
      "|truly love the ca...|1553366825773195264|          oga foroga|Someone else|   retweet|\n",
      "|for our high scho...|1553402801807659009|Love God & Love p...|Someone else|   retweet|\n",
      "|just posted a pho...|               null|Motivational #spe...|   Education|     tweet|\n",
      "+--------------------+-------------------+--------------------+------------+----------+\n",
      "only showing top 20 rows\n",
      "\n"
     ]
    },
    {
     "name": "stderr",
     "output_type": "stream",
     "text": [
      "                                                                                \r"
     ]
    }
   ],
   "source": [
    "df.show()"
   ]
  },
  {
   "cell_type": "code",
   "execution_count": 13,
   "id": "98181cd0-f9ed-4a99-8659-3744a56d8b7d",
   "metadata": {},
   "outputs": [],
   "source": [
    "df = df.filter(col('tweet_type') == 'tweet')"
   ]
  },
  {
   "cell_type": "code",
   "execution_count": 14,
   "id": "66cb5650-b8e9-4cad-b3c8-0d1b5ce11346",
   "metadata": {},
   "outputs": [
    {
     "name": "stderr",
     "output_type": "stream",
     "text": [
      "[Stage 2:>                                                          (0 + 1) / 1]\r"
     ]
    },
    {
     "name": "stdout",
     "output_type": "stream",
     "text": [
      "+--------------------+-----------+--------------------+------------+----------+\n",
      "|                text|r_status_id|         Description|Organisation|tweet_type|\n",
      "+--------------------+-----------+--------------------+------------+----------+\n",
      "|dropped almost 2....|       null|If it makes you h...|Someone else|     tweet|\n",
      "|@nickafterhack @l...|       null|All lives SHOULD ...|Someone else|     tweet|\n",
      "|just posted a pho...|       null|Motivational #spe...|   Education|     tweet|\n",
      "|@uimcclure univer...|       null|Our mission is to...|Someone else|     tweet|\n",
      "|@hs_next_stop dor...|       null|CHS📚 class 23🎓 ...|Someone else|     tweet|\n",
      "|u.s. supreme cour...|       null|My children & gra...|  Government|     tweet|\n",
      "|@elisestefanik wo...|       null|Boston,Retired,#i...|Someone else|     tweet|\n",
      "|the way my high s...|       null|Gwendolyn🥰TSU💙?...|Someone else|     tweet|\n",
      "|i love college ht...|       null|     come back later|Someone else|     tweet|\n",
      "|mamma mia &gt; hi...|       null|self-doubting sel...|Someone else|     tweet|\n",
      "|grand peace fair ...|       null|           ✍️🏸🎤🔌☪|Someone else|     tweet|\n",
      "|i get into a coll...|       null|God, spiritual ki...|Someone else|     tweet|\n",
      "|i can use interne...|       null|hating on leos, g...|Someone else|     tweet|\n",
      "|you're gonna get ...|       null|✨always your favo...|Someone else|     tweet|\n",
      "|i’m going to star...|       null|\"For person with ...|Someone else|     tweet|\n",
      "|unmatched. colleg...|       null|NFL & College Foo...|  Government|     tweet|\n",
      "|holy shit college...|       null|sox, dem boyz, mo...|Someone else|     tweet|\n",
      "|what a game. coll...|       null|• IG | Grailed | ...|Someone else|     tweet|\n",
      "|college kickers suck|       null|Liverpool FC. 𝕲’...|Someone else|     tweet|\n",
      "|had no idea snoot...|       null|GT Arch 23. Stop ...|Someone else|     tweet|\n",
      "+--------------------+-----------+--------------------+------------+----------+\n",
      "only showing top 20 rows\n",
      "\n"
     ]
    },
    {
     "name": "stderr",
     "output_type": "stream",
     "text": [
      "                                                                                \r"
     ]
    }
   ],
   "source": [
    "df.show()"
   ]
  },
  {
   "cell_type": "code",
   "execution_count": 15,
   "id": "dcbe0f1d-20cd-4d28-8393-75094005d9a2",
   "metadata": {},
   "outputs": [],
   "source": [
    "df1 = df.select('Organisation')"
   ]
  },
  {
   "cell_type": "code",
   "execution_count": 16,
   "id": "9fa0f7aa-afd5-470d-8dc7-1f437c679040",
   "metadata": {},
   "outputs": [
    {
     "name": "stderr",
     "output_type": "stream",
     "text": [
      "[Stage 3:>                                                          (0 + 1) / 1]\r"
     ]
    },
    {
     "name": "stdout",
     "output_type": "stream",
     "text": [
      "+------------+\n",
      "|Organisation|\n",
      "+------------+\n",
      "|Someone else|\n",
      "|Someone else|\n",
      "|   Education|\n",
      "|Someone else|\n",
      "|Someone else|\n",
      "|  Government|\n",
      "|Someone else|\n",
      "|Someone else|\n",
      "|Someone else|\n",
      "|Someone else|\n",
      "|Someone else|\n",
      "|Someone else|\n",
      "|Someone else|\n",
      "|Someone else|\n",
      "|Someone else|\n",
      "|  Government|\n",
      "|Someone else|\n",
      "|Someone else|\n",
      "|Someone else|\n",
      "|Someone else|\n",
      "+------------+\n",
      "only showing top 20 rows\n",
      "\n"
     ]
    },
    {
     "name": "stderr",
     "output_type": "stream",
     "text": [
      "                                                                                \r"
     ]
    }
   ],
   "source": [
    "df1.show()"
   ]
  },
  {
   "cell_type": "code",
   "execution_count": 17,
   "id": "fd86f9f4-1ed2-4c36-a406-c48199ee5a53",
   "metadata": {},
   "outputs": [],
   "source": [
    "df = df.select('text',substring('text',1,100)).withColumnRenamed(\"substring(text, 1, 100)\",\"tweet_text\")"
   ]
  },
  {
   "cell_type": "code",
   "execution_count": 18,
   "id": "b49de8ac-0280-45fd-aa01-5ed77bb281a2",
   "metadata": {},
   "outputs": [
    {
     "name": "stdout",
     "output_type": "stream",
     "text": [
      "root\n",
      " |-- text: string (nullable = true)\n",
      " |-- tweet_text: string (nullable = true)\n",
      "\n"
     ]
    }
   ],
   "source": [
    "df.printSchema()"
   ]
  },
  {
   "cell_type": "code",
   "execution_count": 19,
   "id": "a5eaa7c5-5304-40d1-ab68-928a2460af3d",
   "metadata": {},
   "outputs": [
    {
     "name": "stderr",
     "output_type": "stream",
     "text": [
      "                                                                                \r"
     ]
    },
    {
     "data": {
      "text/plain": [
       "20166"
      ]
     },
     "execution_count": 19,
     "metadata": {},
     "output_type": "execute_result"
    }
   ],
   "source": [
    "df.count()"
   ]
  },
  {
   "cell_type": "code",
   "execution_count": 20,
   "id": "721d590c-9501-4046-abe4-a52eb665d673",
   "metadata": {},
   "outputs": [],
   "source": [
    "text_body = df.rdd.map(lambda x : x['tweet_text']).filter(lambda x: x is not None)\n",
    "StopWords = stopwords.words(\"english\")"
   ]
  },
  {
   "cell_type": "code",
   "execution_count": 21,
   "id": "debf3a3f-1e8c-4bda-8fbc-702d2b844e3b",
   "metadata": {},
   "outputs": [
    {
     "name": "stderr",
     "output_type": "stream",
     "text": [
      "                                                                                \r"
     ]
    },
    {
     "data": {
      "text/html": [
       "<table border='1'>\n",
       "<tr><th>tweet_text</th><th>id</th></tr>\n",
       "<tr><td>{school teachers ...</td><td>168</td></tr>\n",
       "<tr><td>{remember when yo...</td><td>169</td></tr>\n",
       "<tr><td>{i have a “spend ...</td><td>170</td></tr>\n",
       "<tr><td>{sculpture honour...</td><td>171</td></tr>\n",
       "<tr><td>{@dahtribute @wes...</td><td>172</td></tr>\n",
       "</table>\n"
      ],
      "text/plain": [
       "+--------------------+---+\n",
       "|          tweet_text| id|\n",
       "+--------------------+---+\n",
       "|{tyler ode c/o 20...| 92|\n",
       "|{that middle scho...| 93|\n",
       "|{@lizanneplatt09 ...| 94|\n",
       "|{@evandennison1 y...| 95|\n",
       "|{attention spread...| 96|\n",
       "+--------------------+---+"
      ]
     },
     "execution_count": 21,
     "metadata": {},
     "output_type": "execute_result"
    }
   ],
   "source": [
    "row = Row('text')\n",
    "df_text = text_body.map(row).zipWithIndex().toDF(['tweet_text','id'])\n",
    "df_text.limit(5)"
   ]
  },
  {
   "cell_type": "code",
   "execution_count": 22,
   "id": "ac90aef8-b7d7-47c3-ab68-4f44b005b536",
   "metadata": {},
   "outputs": [
    {
     "name": "stderr",
     "output_type": "stream",
     "text": [
      "                                                                                \r"
     ]
    }
   ],
   "source": [
    "tokens = text_body\\\n",
    "    .map( lambda document: document.strip().lower())\\\n",
    "    .map( lambda document: re.split(\" \", document))\\\n",
    "    .map( lambda word: [x for x in word if len(x) > 1] )\\\n",
    "    .zipWithIndex()"
   ]
  },
  {
   "cell_type": "code",
   "execution_count": 23,
   "id": "16a27a58-af4b-4e03-8943-1cb3d8347b36",
   "metadata": {},
   "outputs": [
    {
     "name": "stderr",
     "output_type": "stream",
     "text": [
      "                                                                                \r"
     ]
    }
   ],
   "source": [
    "tokens_df = spark.createDataFrame(tokens, [\"list_of_words\",'id'])"
   ]
  },
  {
   "cell_type": "code",
   "execution_count": 24,
   "id": "ecbd955b-6823-4c92-8d27-dab97c4d565e",
   "metadata": {},
   "outputs": [],
   "source": [
    "tokens_df = tokens_df.withColumn('row_index', row_number().over(Window.orderBy(monotonically_increasing_id())))\n",
    "df1 = df1.withColumn('row_index', row_number().over(Window.orderBy(monotonically_increasing_id())))"
   ]
  },
  {
   "cell_type": "code",
   "execution_count": 25,
   "id": "70728f53-d066-4c83-a154-5f12b3ce0911",
   "metadata": {},
   "outputs": [],
   "source": [
    "tokens_df = tokens_df.join(df1, on=[\"row_index\"]).drop(\"row_index\")\n",
    "tokens_df = tokens_df.where(col('list_of_words').getItem(0).isNotNull())"
   ]
  },
  {
   "cell_type": "code",
   "execution_count": 26,
   "id": "fcf79b67-ffa7-4c81-96b4-b35731baf9d3",
   "metadata": {},
   "outputs": [
    {
     "name": "stderr",
     "output_type": "stream",
     "text": [
      "23/03/07 23:11:05 WARN org.apache.spark.sql.execution.window.WindowExec: No Partition Defined for Window operation! Moving all data to a single partition, this can cause serious performance degradation.\n",
      "23/03/07 23:11:05 WARN org.apache.spark.sql.execution.window.WindowExec: No Partition Defined for Window operation! Moving all data to a single partition, this can cause serious performance degradation.\n",
      "23/03/07 23:12:30 WARN org.apache.spark.sql.execution.window.WindowExec: No Partition Defined for Window operation! Moving all data to a single partition, this can cause serious performance degradation.\n",
      "23/03/07 23:12:30 WARN org.apache.spark.sql.execution.window.WindowExec: No Partition Defined for Window operation! Moving all data to a single partition, this can cause serious performance degradation.\n",
      "23/03/07 23:12:30 WARN org.apache.spark.sql.execution.window.WindowExec: No Partition Defined for Window operation! Moving all data to a single partition, this can cause serious performance degradation.\n",
      "23/03/07 23:12:31 WARN org.apache.spark.sql.execution.window.WindowExec: No Partition Defined for Window operation! Moving all data to a single partition, this can cause serious performance degradation.\n",
      "23/03/07 23:12:39 WARN org.apache.spark.sql.execution.window.WindowExec: No Partition Defined for Window operation! Moving all data to a single partition, this can cause serious performance degradation.\n",
      "23/03/07 23:12:39 WARN org.apache.spark.sql.execution.window.WindowExec: No Partition Defined for Window operation! Moving all data to a single partition, this can cause serious performance degradation.\n",
      "                                                                                \r"
     ]
    }
   ],
   "source": [
    "vectorize = CountVectorizer(inputCol=\"list_of_words\", outputCol=\"features\", minDF=1.0)\n",
    "vectorize_df = vectorize.fit(tokens_df).transform(tokens_df) "
   ]
  },
  {
   "cell_type": "code",
   "execution_count": 27,
   "id": "c3dd47e8-0eba-49cb-96ce-c6989766476c",
   "metadata": {},
   "outputs": [],
   "source": [
    "mh = MinHashLSH(inputCol=\"features\", outputCol=\"hashes\", numHashTables=5)\n",
    "model = mh.fit(vectorize_df)\n",
    "hashed_df = mh.fit(vectorize_df).transform(vectorize_df)"
   ]
  },
  {
   "cell_type": "code",
   "execution_count": 28,
   "id": "e5311ec8-29e5-4981-b0ec-f70813ed88aa",
   "metadata": {},
   "outputs": [],
   "source": [
    "hashed_text = df_text.join(hashed_df, \"id\", how = 'left')"
   ]
  },
  {
   "cell_type": "markdown",
   "id": "2a1dfd90-c643-4b65-b81e-181c8aad1579",
   "metadata": {},
   "source": [
    "# 0.5"
   ]
  },
  {
   "cell_type": "code",
   "execution_count": 29,
   "id": "527182a3-a606-4246-8739-b728402f5390",
   "metadata": {},
   "outputs": [],
   "source": [
    "jaccard_distance = 0.6\n",
    "df_dups_text_30 = model.approxSimilarityJoin(hashed_text, hashed_text, jaccard_distance).filter(\"datasetA.id < datasetB.id\").select(\n",
    "            col(\"distCol\"),col(\"datasetA.Organisation\").alias('Organisation'),\n",
    "             col(\"datasetA.id\").alias(\"id_A\"),\n",
    "             col(\"datasetB.id\").alias(\"id_B\"), \n",
    "            col('datasetA.tweet_text').alias('text_A'),\n",
    "            col('datasetB.tweet_text').alias('text_B'))"
   ]
  },
  {
   "cell_type": "code",
   "execution_count": 30,
   "id": "f04478c5-1289-4bfe-b1ef-862326a2e48f",
   "metadata": {},
   "outputs": [
    {
     "name": "stderr",
     "output_type": "stream",
     "text": [
      "23/03/07 23:12:45 WARN org.apache.spark.sql.execution.window.WindowExec: No Partition Defined for Window operation! Moving all data to a single partition, this can cause serious performance degradation.\n",
      "23/03/07 23:12:45 WARN org.apache.spark.sql.execution.window.WindowExec: No Partition Defined for Window operation! Moving all data to a single partition, this can cause serious performance degradation.\n",
      "23/03/07 23:12:45 WARN org.apache.spark.sql.execution.window.WindowExec: No Partition Defined for Window operation! Moving all data to a single partition, this can cause serious performance degradation.\n",
      "23/03/07 23:12:45 WARN org.apache.spark.sql.execution.window.WindowExec: No Partition Defined for Window operation! Moving all data to a single partition, this can cause serious performance degradation.\n",
      "23/03/07 23:15:23 WARN org.apache.spark.sql.execution.window.WindowExec: No Partition Defined for Window operation! Moving all data to a single partition, this can cause serious performance degradation.\n",
      "23/03/07 23:15:23 WARN org.apache.spark.sql.execution.window.WindowExec: No Partition Defined for Window operation! Moving all data to a single partition, this can cause serious performance degradation.\n",
      "23/03/07 23:15:23 WARN org.apache.spark.sql.execution.window.WindowExec: No Partition Defined for Window operation! Moving all data to a single partition, this can cause serious performance degradation.\n",
      "23/03/07 23:15:23 WARN org.apache.spark.sql.execution.window.WindowExec: No Partition Defined for Window operation! Moving all data to a single partition, this can cause serious performance degradation.\n",
      "23/03/07 23:15:23 WARN org.apache.spark.sql.execution.window.WindowExec: No Partition Defined for Window operation! Moving all data to a single partition, this can cause serious performance degradation.\n",
      "23/03/07 23:15:23 WARN org.apache.spark.sql.execution.window.WindowExec: No Partition Defined for Window operation! Moving all data to a single partition, this can cause serious performance degradation.\n",
      "23/03/07 23:15:23 WARN org.apache.spark.sql.execution.window.WindowExec: No Partition Defined for Window operation! Moving all data to a single partition, this can cause serious performance degradation.\n",
      "23/03/07 23:15:23 WARN org.apache.spark.sql.execution.window.WindowExec: No Partition Defined for Window operation! Moving all data to a single partition, this can cause serious performance degradation.\n",
      "23/03/07 23:15:23 WARN org.apache.spark.sql.execution.window.WindowExec: No Partition Defined for Window operation! Moving all data to a single partition, this can cause serious performance degradation.\n",
      "23/03/07 23:15:23 WARN org.apache.spark.sql.execution.window.WindowExec: No Partition Defined for Window operation! Moving all data to a single partition, this can cause serious performance degradation.\n",
      "23/03/07 23:15:23 WARN org.apache.spark.sql.execution.window.WindowExec: No Partition Defined for Window operation! Moving all data to a single partition, this can cause serious performance degradation.\n",
      "23/03/07 23:15:23 WARN org.apache.spark.sql.execution.window.WindowExec: No Partition Defined for Window operation! Moving all data to a single partition, this can cause serious performance degradation.\n",
      "23/03/07 23:15:23 WARN org.apache.spark.sql.execution.window.WindowExec: No Partition Defined for Window operation! Moving all data to a single partition, this can cause serious performance degradation.\n",
      "23/03/07 23:15:23 WARN org.apache.spark.sql.execution.window.WindowExec: No Partition Defined for Window operation! Moving all data to a single partition, this can cause serious performance degradation.\n",
      "23/03/07 23:15:23 WARN org.apache.spark.sql.execution.window.WindowExec: No Partition Defined for Window operation! Moving all data to a single partition, this can cause serious performance degradation.\n",
      "23/03/07 23:15:23 WARN org.apache.spark.sql.execution.window.WindowExec: No Partition Defined for Window operation! Moving all data to a single partition, this can cause serious performance degradation.\n",
      "23/03/07 23:15:24 WARN org.apache.spark.sql.execution.window.WindowExec: No Partition Defined for Window operation! Moving all data to a single partition, this can cause serious performance degradation.\n",
      "23/03/07 23:15:24 WARN org.apache.spark.sql.execution.window.WindowExec: No Partition Defined for Window operation! Moving all data to a single partition, this can cause serious performance degradation.\n",
      "23/03/07 23:15:24 WARN org.apache.spark.sql.execution.window.WindowExec: No Partition Defined for Window operation! Moving all data to a single partition, this can cause serious performance degradation.\n",
      "23/03/07 23:15:24 WARN org.apache.spark.sql.execution.window.WindowExec: No Partition Defined for Window operation! Moving all data to a single partition, this can cause serious performance degradation.\n",
      "                                                                                \r"
     ]
    },
    {
     "data": {
      "text/html": [
       "<div>\n",
       "<style scoped>\n",
       "    .dataframe tbody tr th:only-of-type {\n",
       "        vertical-align: middle;\n",
       "    }\n",
       "\n",
       "    .dataframe tbody tr th {\n",
       "        vertical-align: top;\n",
       "    }\n",
       "\n",
       "    .dataframe thead th {\n",
       "        text-align: right;\n",
       "    }\n",
       "</style>\n",
       "<table border=\"1\" class=\"dataframe\">\n",
       "  <thead>\n",
       "    <tr style=\"text-align: right;\">\n",
       "      <th></th>\n",
       "      <th>distCol</th>\n",
       "      <th>Organisation</th>\n",
       "      <th>id_A</th>\n",
       "      <th>id_B</th>\n",
       "      <th>text_A</th>\n",
       "      <th>text_B</th>\n",
       "    </tr>\n",
       "  </thead>\n",
       "  <tbody>\n",
       "    <tr>\n",
       "      <th>14</th>\n",
       "      <td>0.590909</td>\n",
       "      <td>Someone else</td>\n",
       "      <td>468</td>\n",
       "      <td>9151</td>\n",
       "      <td>(seton lasalle vs fort cherry | pennsylvania high school baseball 2022 live stream | click here watch,)</td>\n",
       "      <td>(mynderse academy vs gananda central | new york high school baseball 2022 live stream | click here wa,)</td>\n",
       "    </tr>\n",
       "    <tr>\n",
       "      <th>0</th>\n",
       "      <td>0.571429</td>\n",
       "      <td>Someone else</td>\n",
       "      <td>1326</td>\n",
       "      <td>1486</td>\n",
       "      <td>(the nicest american school teacher,)</td>\n",
       "      <td>(the fun high school teacher,)</td>\n",
       "    </tr>\n",
       "    <tr>\n",
       "      <th>17</th>\n",
       "      <td>0.571429</td>\n",
       "      <td>Someone else</td>\n",
       "      <td>3858</td>\n",
       "      <td>17996</td>\n",
       "      <td>(me in high school,)</td>\n",
       "      <td>(he was a safety in high school,)</td>\n",
       "    </tr>\n",
       "    <tr>\n",
       "      <th>15</th>\n",
       "      <td>0.571429</td>\n",
       "      <td>Someone else</td>\n",
       "      <td>11255</td>\n",
       "      <td>11342</td>\n",
       "      <td>(i believe in high school musical 2 supremacy,)</td>\n",
       "      <td>(me in high school,)</td>\n",
       "    </tr>\n",
       "    <tr>\n",
       "      <th>5</th>\n",
       "      <td>0.571429</td>\n",
       "      <td>Someone else</td>\n",
       "      <td>3779</td>\n",
       "      <td>12518</td>\n",
       "      <td>(me in high school,)</td>\n",
       "      <td>(yea he wrestled in high school,)</td>\n",
       "    </tr>\n",
       "    <tr>\n",
       "      <th>8</th>\n",
       "      <td>0.550000</td>\n",
       "      <td>Someone else</td>\n",
       "      <td>4320</td>\n",
       "      <td>5862</td>\n",
       "      <td>(beverly vs central catholic | ma high school baseball 2022 live stream | click here watch live hd: h,)</td>\n",
       "      <td>(ayersville vs bluffton | high school football 2022 live streaming | click here watch live hd: https:,)</td>\n",
       "    </tr>\n",
       "    <tr>\n",
       "      <th>13</th>\n",
       "      <td>0.550000</td>\n",
       "      <td>Someone else</td>\n",
       "      <td>1767</td>\n",
       "      <td>11383</td>\n",
       "      <td>(connellsville vs bethel park | pa high school baseball 2022 live stream | click here watch live hd =,)</td>\n",
       "      <td>(centerville vs miamisburg | high school football 2022 live stream | click here watch live hd: https:,)</td>\n",
       "    </tr>\n",
       "    <tr>\n",
       "      <th>19</th>\n",
       "      <td>0.550000</td>\n",
       "      <td>Someone else</td>\n",
       "      <td>7314</td>\n",
       "      <td>10957</td>\n",
       "      <td>(bertie vs perquimans | north carolina high school baseball 2022 live stream | click here watch live ,)</td>\n",
       "      <td>(lakota east vs sycamore | high school football 2022 live stream | click here watch live hd: https://,)</td>\n",
       "    </tr>\n",
       "    <tr>\n",
       "      <th>7</th>\n",
       "      <td>0.550000</td>\n",
       "      <td>Someone else</td>\n",
       "      <td>4320</td>\n",
       "      <td>10142</td>\n",
       "      <td>(beverly vs central catholic | ma high school baseball 2022 live stream | click here watch live hd: h,)</td>\n",
       "      <td>(riceville vs turkey valley | high school football live stream | click here watch live hd: https://t.,)</td>\n",
       "    </tr>\n",
       "    <tr>\n",
       "      <th>1</th>\n",
       "      <td>0.500000</td>\n",
       "      <td>Someone else</td>\n",
       "      <td>2243</td>\n",
       "      <td>13403</td>\n",
       "      <td>(@sainttxo me in high school,)</td>\n",
       "      <td>(she's in high school,)</td>\n",
       "    </tr>\n",
       "    <tr>\n",
       "      <th>11</th>\n",
       "      <td>0.500000</td>\n",
       "      <td>Someone else</td>\n",
       "      <td>5692</td>\n",
       "      <td>18715</td>\n",
       "      <td>(high school hyera…,)</td>\n",
       "      <td>(high school freshmen?? 🤢,)</td>\n",
       "    </tr>\n",
       "    <tr>\n",
       "      <th>6</th>\n",
       "      <td>0.500000</td>\n",
       "      <td>Someone else</td>\n",
       "      <td>6511</td>\n",
       "      <td>10680</td>\n",
       "      <td>(high school classic,)</td>\n",
       "      <td>(@novabarbiie high school,)</td>\n",
       "    </tr>\n",
       "    <tr>\n",
       "      <th>3</th>\n",
       "      <td>0.500000</td>\n",
       "      <td>Someone else</td>\n",
       "      <td>11298</td>\n",
       "      <td>13403</td>\n",
       "      <td>(im literally in high school,)</td>\n",
       "      <td>(she's in high school,)</td>\n",
       "    </tr>\n",
       "    <tr>\n",
       "      <th>16</th>\n",
       "      <td>0.500000</td>\n",
       "      <td>Someone else</td>\n",
       "      <td>8690</td>\n",
       "      <td>9661</td>\n",
       "      <td>(high school lol,)</td>\n",
       "      <td>(@pierzd_ high school,)</td>\n",
       "    </tr>\n",
       "    <tr>\n",
       "      <th>2</th>\n",
       "      <td>0.500000</td>\n",
       "      <td>Someone else</td>\n",
       "      <td>9661</td>\n",
       "      <td>11597</td>\n",
       "      <td>(@pierzd_ high school,)</td>\n",
       "      <td>(@onikasdestiny high school,)</td>\n",
       "    </tr>\n",
       "    <tr>\n",
       "      <th>18</th>\n",
       "      <td>0.500000</td>\n",
       "      <td>Someone else</td>\n",
       "      <td>6511</td>\n",
       "      <td>13019</td>\n",
       "      <td>(high school classic,)</td>\n",
       "      <td>(me high school,)</td>\n",
       "    </tr>\n",
       "    <tr>\n",
       "      <th>10</th>\n",
       "      <td>0.500000</td>\n",
       "      <td>Someone else</td>\n",
       "      <td>2243</td>\n",
       "      <td>2374</td>\n",
       "      <td>(@sainttxo me in high school,)</td>\n",
       "      <td>(high school punter me,)</td>\n",
       "    </tr>\n",
       "    <tr>\n",
       "      <th>9</th>\n",
       "      <td>0.470588</td>\n",
       "      <td>Someone else</td>\n",
       "      <td>7948</td>\n",
       "      <td>9537</td>\n",
       "      <td>(whitehall-yearling vs buckeye valley | high school football 2022 live stream | click here watch live,)</td>\n",
       "      <td>(brecksville-broadview heights vs avon lake | high school football 2022 live | click here watch live ,)</td>\n",
       "    </tr>\n",
       "    <tr>\n",
       "      <th>4</th>\n",
       "      <td>0.428571</td>\n",
       "      <td>Someone else</td>\n",
       "      <td>11298</td>\n",
       "      <td>12470</td>\n",
       "      <td>(im literally in high school,)</td>\n",
       "      <td>(@gene9892 literally me in high school,)</td>\n",
       "    </tr>\n",
       "    <tr>\n",
       "      <th>12</th>\n",
       "      <td>0.400000</td>\n",
       "      <td>Someone else</td>\n",
       "      <td>12735</td>\n",
       "      <td>14400</td>\n",
       "      <td>(@biblemyluve high school musical stopppp,)</td>\n",
       "      <td>(high school musical 2,)</td>\n",
       "    </tr>\n",
       "  </tbody>\n",
       "</table>\n",
       "</div>"
      ],
      "text/plain": [
       "     distCol  Organisation   id_A   id_B  \\\n",
       "14  0.590909  Someone else    468   9151   \n",
       "0   0.571429  Someone else   1326   1486   \n",
       "17  0.571429  Someone else   3858  17996   \n",
       "15  0.571429  Someone else  11255  11342   \n",
       "5   0.571429  Someone else   3779  12518   \n",
       "8   0.550000  Someone else   4320   5862   \n",
       "13  0.550000  Someone else   1767  11383   \n",
       "19  0.550000  Someone else   7314  10957   \n",
       "7   0.550000  Someone else   4320  10142   \n",
       "1   0.500000  Someone else   2243  13403   \n",
       "11  0.500000  Someone else   5692  18715   \n",
       "6   0.500000  Someone else   6511  10680   \n",
       "3   0.500000  Someone else  11298  13403   \n",
       "16  0.500000  Someone else   8690   9661   \n",
       "2   0.500000  Someone else   9661  11597   \n",
       "18  0.500000  Someone else   6511  13019   \n",
       "10  0.500000  Someone else   2243   2374   \n",
       "9   0.470588  Someone else   7948   9537   \n",
       "4   0.428571  Someone else  11298  12470   \n",
       "12  0.400000  Someone else  12735  14400   \n",
       "\n",
       "                                                                                                     text_A  \\\n",
       "14  (seton lasalle vs fort cherry | pennsylvania high school baseball 2022 live stream | click here watch,)   \n",
       "0                                                                     (the nicest american school teacher,)   \n",
       "17                                                                                     (me in high school,)   \n",
       "15                                                          (i believe in high school musical 2 supremacy,)   \n",
       "5                                                                                      (me in high school,)   \n",
       "8   (beverly vs central catholic | ma high school baseball 2022 live stream | click here watch live hd: h,)   \n",
       "13  (connellsville vs bethel park | pa high school baseball 2022 live stream | click here watch live hd =,)   \n",
       "19  (bertie vs perquimans | north carolina high school baseball 2022 live stream | click here watch live ,)   \n",
       "7   (beverly vs central catholic | ma high school baseball 2022 live stream | click here watch live hd: h,)   \n",
       "1                                                                            (@sainttxo me in high school,)   \n",
       "11                                                                                    (high school hyera…,)   \n",
       "6                                                                                    (high school classic,)   \n",
       "3                                                                            (im literally in high school,)   \n",
       "16                                                                                       (high school lol,)   \n",
       "2                                                                                   (@pierzd_ high school,)   \n",
       "18                                                                                   (high school classic,)   \n",
       "10                                                                           (@sainttxo me in high school,)   \n",
       "9   (whitehall-yearling vs buckeye valley | high school football 2022 live stream | click here watch live,)   \n",
       "4                                                                            (im literally in high school,)   \n",
       "12                                                              (@biblemyluve high school musical stopppp,)   \n",
       "\n",
       "                                                                                                     text_B  \n",
       "14  (mynderse academy vs gananda central | new york high school baseball 2022 live stream | click here wa,)  \n",
       "0                                                                            (the fun high school teacher,)  \n",
       "17                                                                        (he was a safety in high school,)  \n",
       "15                                                                                     (me in high school,)  \n",
       "5                                                                         (yea he wrestled in high school,)  \n",
       "8   (ayersville vs bluffton | high school football 2022 live streaming | click here watch live hd: https:,)  \n",
       "13  (centerville vs miamisburg | high school football 2022 live stream | click here watch live hd: https:,)  \n",
       "19  (lakota east vs sycamore | high school football 2022 live stream | click here watch live hd: https://,)  \n",
       "7   (riceville vs turkey valley | high school football live stream | click here watch live hd: https://t.,)  \n",
       "1                                                                                   (she's in high school,)  \n",
       "11                                                                              (high school freshmen?? 🤢,)  \n",
       "6                                                                               (@novabarbiie high school,)  \n",
       "3                                                                                   (she's in high school,)  \n",
       "16                                                                                  (@pierzd_ high school,)  \n",
       "2                                                                             (@onikasdestiny high school,)  \n",
       "18                                                                                        (me high school,)  \n",
       "10                                                                                 (high school punter me,)  \n",
       "9   (brecksville-broadview heights vs avon lake | high school football 2022 live | click here watch live ,)  \n",
       "4                                                                  (@gene9892 literally me in high school,)  \n",
       "12                                                                                 (high school musical 2,)  "
      ]
     },
     "execution_count": 30,
     "metadata": {},
     "output_type": "execute_result"
    }
   ],
   "source": [
    "df_dups_txt_30 = df_dups_text_30\n",
    "df_dups_text_30.limit(20).toPandas().sort_values('distCol',ascending=False)"
   ]
  },
  {
   "cell_type": "code",
   "execution_count": 31,
   "id": "7880e52d-16d1-4186-b13f-b3a0305103e0",
   "metadata": {},
   "outputs": [
    {
     "name": "stderr",
     "output_type": "stream",
     "text": [
      "23/03/07 23:16:41 WARN org.apache.spark.sql.execution.window.WindowExec: No Partition Defined for Window operation! Moving all data to a single partition, this can cause serious performance degradation.\n",
      "23/03/07 23:16:41 WARN org.apache.spark.sql.execution.window.WindowExec: No Partition Defined for Window operation! Moving all data to a single partition, this can cause serious performance degradation.\n",
      "23/03/07 23:19:06 WARN org.apache.spark.sql.execution.window.WindowExec: No Partition Defined for Window operation! Moving all data to a single partition, this can cause serious performance degradation.\n",
      "23/03/07 23:19:06 WARN org.apache.spark.sql.execution.window.WindowExec: No Partition Defined for Window operation! Moving all data to a single partition, this can cause serious performance degradation.\n",
      "23/03/07 23:19:06 WARN org.apache.spark.sql.execution.window.WindowExec: No Partition Defined for Window operation! Moving all data to a single partition, this can cause serious performance degradation.\n",
      "23/03/07 23:19:08 WARN org.apache.spark.sql.execution.window.WindowExec: No Partition Defined for Window operation! Moving all data to a single partition, this can cause serious performance degradation.\n",
      "23/03/07 23:19:16 WARN org.apache.spark.sql.execution.window.WindowExec: No Partition Defined for Window operation! Moving all data to a single partition, this can cause serious performance degradation.\n",
      "23/03/07 23:19:16 WARN org.apache.spark.sql.execution.window.WindowExec: No Partition Defined for Window operation! Moving all data to a single partition, this can cause serious performance degradation.\n",
      "23/03/07 23:19:22 WARN org.apache.spark.sql.execution.window.WindowExec: No Partition Defined for Window operation! Moving all data to a single partition, this can cause serious performance degradation.\n",
      "23/03/07 23:19:22 WARN org.apache.spark.sql.execution.window.WindowExec: No Partition Defined for Window operation! Moving all data to a single partition, this can cause serious performance degradation.\n",
      "23/03/07 23:19:22 WARN org.apache.spark.sql.execution.window.WindowExec: No Partition Defined for Window operation! Moving all data to a single partition, this can cause serious performance degradation.\n",
      "23/03/07 23:19:22 WARN org.apache.spark.sql.execution.window.WindowExec: No Partition Defined for Window operation! Moving all data to a single partition, this can cause serious performance degradation.\n",
      "23/03/07 23:21:35 WARN org.apache.spark.sql.execution.window.WindowExec: No Partition Defined for Window operation! Moving all data to a single partition, this can cause serious performance degradation.\n",
      "23/03/07 23:21:35 WARN org.apache.spark.sql.execution.window.WindowExec: No Partition Defined for Window operation! Moving all data to a single partition, this can cause serious performance degradation.\n",
      "23/03/07 23:21:35 WARN org.apache.spark.sql.execution.window.WindowExec: No Partition Defined for Window operation! Moving all data to a single partition, this can cause serious performance degradation.\n",
      "23/03/07 23:21:35 WARN org.apache.spark.sql.execution.window.WindowExec: No Partition Defined for Window operation! Moving all data to a single partition, this can cause serious performance degradation.\n",
      "23/03/07 23:21:35 WARN org.apache.spark.sql.execution.window.WindowExec: No Partition Defined for Window operation! Moving all data to a single partition, this can cause serious performance degradation.\n",
      "23/03/07 23:21:35 WARN org.apache.spark.sql.execution.window.WindowExec: No Partition Defined for Window operation! Moving all data to a single partition, this can cause serious performance degradation.\n",
      "23/03/07 23:21:35 WARN org.apache.spark.sql.execution.window.WindowExec: No Partition Defined for Window operation! Moving all data to a single partition, this can cause serious performance degradation.\n",
      "23/03/07 23:21:35 WARN org.apache.spark.sql.execution.window.WindowExec: No Partition Defined for Window operation! Moving all data to a single partition, this can cause serious performance degradation.\n",
      "23/03/07 23:21:36 WARN org.apache.spark.sql.execution.window.WindowExec: No Partition Defined for Window operation! Moving all data to a single partition, this can cause serious performance degradation.\n",
      "23/03/07 23:21:36 WARN org.apache.spark.sql.execution.window.WindowExec: No Partition Defined for Window operation! Moving all data to a single partition, this can cause serious performance degradation.\n",
      "23/03/07 23:21:36 WARN org.apache.spark.sql.execution.window.WindowExec: No Partition Defined for Window operation! Moving all data to a single partition, this can cause serious performance degradation.\n",
      "23/03/07 23:21:36 WARN org.apache.spark.sql.execution.window.WindowExec: No Partition Defined for Window operation! Moving all data to a single partition, this can cause serious performance degradation.\n",
      "23/03/07 23:21:36 WARN org.apache.spark.sql.execution.window.WindowExec: No Partition Defined for Window operation! Moving all data to a single partition, this can cause serious performance degradation.\n",
      "23/03/07 23:21:36 WARN org.apache.spark.sql.execution.window.WindowExec: No Partition Defined for Window operation! Moving all data to a single partition, this can cause serious performance degradation.\n",
      "23/03/07 23:21:36 WARN org.apache.spark.sql.execution.window.WindowExec: No Partition Defined for Window operation! Moving all data to a single partition, this can cause serious performance degradation.\n",
      "23/03/07 23:21:36 WARN org.apache.spark.sql.execution.window.WindowExec: No Partition Defined for Window operation! Moving all data to a single partition, this can cause serious performance degradation.\n",
      "23/03/07 23:21:36 WARN org.apache.spark.sql.execution.window.WindowExec: No Partition Defined for Window operation! Moving all data to a single partition, this can cause serious performance degradation.\n",
      "23/03/07 23:21:36 WARN org.apache.spark.sql.execution.window.WindowExec: No Partition Defined for Window operation! Moving all data to a single partition, this can cause serious performance degradation.\n",
      "23/03/07 23:21:36 WARN org.apache.spark.sql.execution.window.WindowExec: No Partition Defined for Window operation! Moving all data to a single partition, this can cause serious performance degradation.\n",
      "23/03/07 23:21:36 WARN org.apache.spark.sql.execution.window.WindowExec: No Partition Defined for Window operation! Moving all data to a single partition, this can cause serious performance degradation.\n",
      "23/03/07 23:21:36 WARN org.apache.spark.sql.execution.window.WindowExec: No Partition Defined for Window operation! Moving all data to a single partition, this can cause serious performance degradation.\n",
      "23/03/07 23:21:36 WARN org.apache.spark.sql.execution.window.WindowExec: No Partition Defined for Window operation! Moving all data to a single partition, this can cause serious performance degradation.\n",
      "23/03/07 23:21:36 WARN org.apache.spark.sql.execution.window.WindowExec: No Partition Defined for Window operation! Moving all data to a single partition, this can cause serious performance degradation.\n",
      "23/03/07 23:21:36 WARN org.apache.spark.sql.execution.window.WindowExec: No Partition Defined for Window operation! Moving all data to a single partition, this can cause serious performance degradation.\n",
      "23/03/07 23:21:36 WARN org.apache.spark.sql.execution.window.WindowExec: No Partition Defined for Window operation! Moving all data to a single partition, this can cause serious performance degradation.\n",
      "23/03/07 23:21:36 WARN org.apache.spark.sql.execution.window.WindowExec: No Partition Defined for Window operation! Moving all data to a single partition, this can cause serious performance degradation.\n",
      "[Stage 74:>                                                         (0 + 1) / 1]\r"
     ]
    },
    {
     "name": "stdout",
     "output_type": "stream",
     "text": [
      "Total records:  20166\n",
      "Duplicate Tweets based on { 0.6 } jaccard distance:  1005\n",
      "Unique Tweets based on { 0.6 } jaccard distance:  0.6 :  19161\n"
     ]
    },
    {
     "name": "stderr",
     "output_type": "stream",
     "text": [
      "                                                                                \r"
     ]
    }
   ],
   "source": [
    "records = hashed_text.count()\n",
    "dups_30 = df_dups_text_30.select('id_A').distinct().count()\n",
    "uniques = records - dups_30\n",
    "\n",
    "print ('Total records: ', records)\n",
    "print ('Duplicate Tweets based on {', jaccard_distance, '} jaccard distance: ', dups_30)\n",
    "print ('Unique Tweets based on {', jaccard_distance, '} jaccard distance: ', jaccard_distance, ': ', uniques)"
   ]
  },
  {
   "cell_type": "code",
   "execution_count": 32,
   "id": "a0474b88-7ee6-4abe-8725-a0724355bfc7",
   "metadata": {},
   "outputs": [
    {
     "data": {
      "image/png": "[encoded data removed]",
      "text/plain": [
       "<Figure size 640x480 with 1 Axes>"
      ]
     },
     "metadata": {},
     "output_type": "display_data"
    }
   ],
   "source": [
    "dups_df = pd.DataFrame.from_dict({'near_dups': [dups_30], 'unique': [uniques]})\n",
    "\n",
    "ax=dups_df.plot(kind = 'bar',y=['near_dups', 'unique'], fontsize=10, color=['C0', 'C1'], align='center', width=0.8, xlabel=\"Duplicates vs. Unique\")\n",
    "ax.set_title('Duplicate tweets analysis', fontsize=15)\n",
    "for p in ax.patches:\n",
    "       ax.annotate(format(p.get_height(), '.1f'), \n",
    "                   (p.get_x() + p.get_width() / 2., p.get_height()/2), \n",
    "                   ha = 'center', va = 'center', \n",
    "                   xytext = (0, 9), \n",
    "                   textcoords = 'offset points')"
   ]
  },
  {
   "cell_type": "code",
   "execution_count": 33,
   "id": "e1091a4f-59c0-4abf-bf8a-2a3e5bc03760",
   "metadata": {},
   "outputs": [],
   "source": [
    "df_dups_text_30.createOrReplaceTempView(\"filtered\")"
   ]
  },
  {
   "cell_type": "code",
   "execution_count": 34,
   "id": "6dcde3b5-9972-4fb6-bb25-814319de951a",
   "metadata": {},
   "outputs": [
    {
     "name": "stderr",
     "output_type": "stream",
     "text": [
      "23/03/07 23:24:00 WARN org.apache.spark.sql.execution.window.WindowExec: No Partition Defined for Window operation! Moving all data to a single partition, this can cause serious performance degradation.\n",
      "23/03/07 23:24:00 WARN org.apache.spark.sql.execution.window.WindowExec: No Partition Defined for Window operation! Moving all data to a single partition, this can cause serious performance degradation.\n",
      "23/03/07 23:24:00 WARN org.apache.spark.sql.execution.window.WindowExec: No Partition Defined for Window operation! Moving all data to a single partition, this can cause serious performance degradation.\n",
      "23/03/07 23:24:00 WARN org.apache.spark.sql.execution.window.WindowExec: No Partition Defined for Window operation! Moving all data to a single partition, this can cause serious performance degradation.\n",
      "23/03/07 23:26:18 WARN org.apache.spark.sql.execution.window.WindowExec: No Partition Defined for Window operation! Moving all data to a single partition, this can cause serious performance degradation.\n",
      "23/03/07 23:26:18 WARN org.apache.spark.sql.execution.window.WindowExec: No Partition Defined for Window operation! Moving all data to a single partition, this can cause serious performance degradation.\n",
      "23/03/07 23:26:18 WARN org.apache.spark.sql.execution.window.WindowExec: No Partition Defined for Window operation! Moving all data to a single partition, this can cause serious performance degradation.\n",
      "23/03/07 23:26:18 WARN org.apache.spark.sql.execution.window.WindowExec: No Partition Defined for Window operation! Moving all data to a single partition, this can cause serious performance degradation.\n",
      "23/03/07 23:26:18 WARN org.apache.spark.sql.execution.window.WindowExec: No Partition Defined for Window operation! Moving all data to a single partition, this can cause serious performance degradation.\n",
      "23/03/07 23:26:18 WARN org.apache.spark.sql.execution.window.WindowExec: No Partition Defined for Window operation! Moving all data to a single partition, this can cause serious performance degradation.\n",
      "23/03/07 23:26:18 WARN org.apache.spark.sql.execution.window.WindowExec: No Partition Defined for Window operation! Moving all data to a single partition, this can cause serious performance degradation.\n",
      "23/03/07 23:26:18 WARN org.apache.spark.sql.execution.window.WindowExec: No Partition Defined for Window operation! Moving all data to a single partition, this can cause serious performance degradation.\n",
      "23/03/07 23:26:21 WARN org.apache.spark.sql.execution.window.WindowExec: No Partition Defined for Window operation! Moving all data to a single partition, this can cause serious performance degradation.\n",
      "23/03/07 23:26:21 WARN org.apache.spark.sql.execution.window.WindowExec: No Partition Defined for Window operation! Moving all data to a single partition, this can cause serious performance degradation.\n",
      "23/03/07 23:26:21 WARN org.apache.spark.sql.execution.window.WindowExec: No Partition Defined for Window operation! Moving all data to a single partition, this can cause serious performance degradation.\n",
      "23/03/07 23:26:21 WARN org.apache.spark.sql.execution.window.WindowExec: No Partition Defined for Window operation! Moving all data to a single partition, this can cause serious performance degradation.\n",
      "23/03/07 23:26:21 WARN org.apache.spark.sql.execution.window.WindowExec: No Partition Defined for Window operation! Moving all data to a single partition, this can cause serious performance degradation.\n",
      "23/03/07 23:26:21 WARN org.apache.spark.sql.execution.window.WindowExec: No Partition Defined for Window operation! Moving all data to a single partition, this can cause serious performance degradation.\n",
      "23/03/07 23:26:21 WARN org.apache.spark.sql.execution.window.WindowExec: No Partition Defined for Window operation! Moving all data to a single partition, this can cause serious performance degradation.\n",
      "23/03/07 23:26:21 WARN org.apache.spark.sql.execution.window.WindowExec: No Partition Defined for Window operation! Moving all data to a single partition, this can cause serious performance degradation.\n",
      "23/03/07 23:26:29 WARN org.apache.spark.sql.execution.window.WindowExec: No Partition Defined for Window operation! Moving all data to a single partition, this can cause serious performance degradation.\n",
      "23/03/07 23:26:29 WARN org.apache.spark.sql.execution.window.WindowExec: No Partition Defined for Window operation! Moving all data to a single partition, this can cause serious performance degradation.\n",
      "23/03/07 23:26:29 WARN org.apache.spark.sql.execution.window.WindowExec: No Partition Defined for Window operation! Moving all data to a single partition, this can cause serious performance degradation.\n",
      "23/03/07 23:26:29 WARN org.apache.spark.sql.execution.window.WindowExec: No Partition Defined for Window operation! Moving all data to a single partition, this can cause serious performance degradation.\n",
      "23/03/07 23:26:29 WARN org.apache.spark.sql.execution.window.WindowExec: No Partition Defined for Window operation! Moving all data to a single partition, this can cause serious performance degradation.\n",
      "23/03/07 23:26:29 WARN org.apache.spark.sql.execution.window.WindowExec: No Partition Defined for Window operation! Moving all data to a single partition, this can cause serious performance degradation.\n",
      "23/03/07 23:26:29 WARN org.apache.spark.sql.execution.window.WindowExec: No Partition Defined for Window operation! Moving all data to a single partition, this can cause serious performance degradation.\n",
      "23/03/07 23:26:29 WARN org.apache.spark.sql.execution.window.WindowExec: No Partition Defined for Window operation! Moving all data to a single partition, this can cause serious performance degradation.\n",
      "23/03/07 23:26:30 WARN org.apache.spark.sql.execution.window.WindowExec: No Partition Defined for Window operation! Moving all data to a single partition, this can cause serious performance degradation.\n",
      "23/03/07 23:26:30 WARN org.apache.spark.sql.execution.window.WindowExec: No Partition Defined for Window operation! Moving all data to a single partition, this can cause serious performance degradation.\n",
      "23/03/07 23:26:30 WARN org.apache.spark.sql.execution.window.WindowExec: No Partition Defined for Window operation! Moving all data to a single partition, this can cause serious performance degradation.\n",
      "23/03/07 23:26:30 WARN org.apache.spark.sql.execution.window.WindowExec: No Partition Defined for Window operation! Moving all data to a single partition, this can cause serious performance degradation.\n",
      "23/03/07 23:26:30 WARN org.apache.spark.sql.execution.window.WindowExec: No Partition Defined for Window operation! Moving all data to a single partition, this can cause serious performance degradation.\n",
      "23/03/07 23:26:30 WARN org.apache.spark.sql.execution.window.WindowExec: No Partition Defined for Window operation! Moving all data to a single partition, this can cause serious performance degradation.\n",
      "23/03/07 23:26:30 WARN org.apache.spark.sql.execution.window.WindowExec: No Partition Defined for Window operation! Moving all data to a single partition, this can cause serious performance degradation.\n",
      "23/03/07 23:26:30 WARN org.apache.spark.sql.execution.window.WindowExec: No Partition Defined for Window operation! Moving all data to a single partition, this can cause serious performance degradation.\n",
      "23/03/07 23:26:31 WARN org.apache.spark.sql.execution.window.WindowExec: No Partition Defined for Window operation! Moving all data to a single partition, this can cause serious performance degradation.\n",
      "23/03/07 23:26:31 WARN org.apache.spark.sql.execution.window.WindowExec: No Partition Defined for Window operation! Moving all data to a single partition, this can cause serious performance degradation.\n",
      "23/03/07 23:26:31 WARN org.apache.spark.sql.execution.window.WindowExec: No Partition Defined for Window operation! Moving all data to a single partition, this can cause serious performance degradation.\n",
      "23/03/07 23:26:31 WARN org.apache.spark.sql.execution.window.WindowExec: No Partition Defined for Window operation! Moving all data to a single partition, this can cause serious performance degradation.\n",
      "23/03/07 23:26:31 WARN org.apache.spark.sql.execution.window.WindowExec: No Partition Defined for Window operation! Moving all data to a single partition, this can cause serious performance degradation.\n",
      "23/03/07 23:26:31 WARN org.apache.spark.sql.execution.window.WindowExec: No Partition Defined for Window operation! Moving all data to a single partition, this can cause serious performance degradation.\n",
      "                                                                                \r"
     ]
    }
   ],
   "source": [
    "dup_df = spark.sql('select Organisation,count(*) from filtered group by Organisation').toPandas()"
   ]
  },
  {
   "cell_type": "code",
   "execution_count": 35,
   "id": "e7945332-31db-4e50-a7bc-4027197f4122",
   "metadata": {},
   "outputs": [
    {
     "data": {
      "text/html": [
       "<div>\n",
       "<style scoped>\n",
       "    .dataframe tbody tr th:only-of-type {\n",
       "        vertical-align: middle;\n",
       "    }\n",
       "\n",
       "    .dataframe tbody tr th {\n",
       "        vertical-align: top;\n",
       "    }\n",
       "\n",
       "    .dataframe thead th {\n",
       "        text-align: right;\n",
       "    }\n",
       "</style>\n",
       "<table border=\"1\" class=\"dataframe\">\n",
       "  <thead>\n",
       "    <tr style=\"text-align: right;\">\n",
       "      <th></th>\n",
       "      <th>Organisation</th>\n",
       "      <th>count(1)</th>\n",
       "    </tr>\n",
       "  </thead>\n",
       "  <tbody>\n",
       "    <tr>\n",
       "      <th>0</th>\n",
       "      <td>News</td>\n",
       "      <td>172</td>\n",
       "    </tr>\n",
       "    <tr>\n",
       "      <th>1</th>\n",
       "      <td>Education</td>\n",
       "      <td>406</td>\n",
       "    </tr>\n",
       "    <tr>\n",
       "      <th>2</th>\n",
       "      <td>Someone else</td>\n",
       "      <td>3064</td>\n",
       "    </tr>\n",
       "    <tr>\n",
       "      <th>3</th>\n",
       "      <td>Government</td>\n",
       "      <td>320</td>\n",
       "    </tr>\n",
       "    <tr>\n",
       "      <th>4</th>\n",
       "      <td>NGO</td>\n",
       "      <td>10</td>\n",
       "    </tr>\n",
       "    <tr>\n",
       "      <th>5</th>\n",
       "      <td>Celebrity</td>\n",
       "      <td>12</td>\n",
       "    </tr>\n",
       "  </tbody>\n",
       "</table>\n",
       "</div>"
      ],
      "text/plain": [
       "   Organisation  count(1)\n",
       "0          News       172\n",
       "1     Education       406\n",
       "2  Someone else      3064\n",
       "3    Government       320\n",
       "4           NGO        10\n",
       "5     Celebrity        12"
      ]
     },
     "execution_count": 35,
     "metadata": {},
     "output_type": "execute_result"
    }
   ],
   "source": [
    "dup_df"
   ]
  },
  {
   "cell_type": "code",
   "execution_count": 36,
   "id": "1c4b15ad-9493-467a-bfd1-2ea1f229f5a8",
   "metadata": {},
   "outputs": [],
   "source": [
    "hashed_text.createOrReplaceTempView(\"filtered\")"
   ]
  },
  {
   "cell_type": "code",
   "execution_count": 37,
   "id": "2251174b-b41b-478c-be2b-1c0796c1644f",
   "metadata": {},
   "outputs": [
    {
     "name": "stderr",
     "output_type": "stream",
     "text": [
      "23/03/07 23:28:56 WARN org.apache.spark.sql.execution.window.WindowExec: No Partition Defined for Window operation! Moving all data to a single partition, this can cause serious performance degradation.\n",
      "23/03/07 23:28:56 WARN org.apache.spark.sql.execution.window.WindowExec: No Partition Defined for Window operation! Moving all data to a single partition, this can cause serious performance degradation.\n",
      "23/03/07 23:31:27 WARN org.apache.spark.sql.execution.window.WindowExec: No Partition Defined for Window operation! Moving all data to a single partition, this can cause serious performance degradation.\n",
      "23/03/07 23:31:27 WARN org.apache.spark.sql.execution.window.WindowExec: No Partition Defined for Window operation! Moving all data to a single partition, this can cause serious performance degradation.\n",
      "23/03/07 23:31:28 WARN org.apache.spark.sql.execution.window.WindowExec: No Partition Defined for Window operation! Moving all data to a single partition, this can cause serious performance degradation.\n",
      "23/03/07 23:31:28 WARN org.apache.spark.sql.execution.window.WindowExec: No Partition Defined for Window operation! Moving all data to a single partition, this can cause serious performance degradation.\n",
      "23/03/07 23:31:30 WARN org.apache.spark.sql.execution.window.WindowExec: No Partition Defined for Window operation! Moving all data to a single partition, this can cause serious performance degradation.\n",
      "23/03/07 23:31:30 WARN org.apache.spark.sql.execution.window.WindowExec: No Partition Defined for Window operation! Moving all data to a single partition, this can cause serious performance degradation.\n",
      "23/03/07 23:31:30 WARN org.apache.spark.sql.execution.window.WindowExec: No Partition Defined for Window operation! Moving all data to a single partition, this can cause serious performance degradation.\n",
      "23/03/07 23:31:30 WARN org.apache.spark.sql.execution.window.WindowExec: No Partition Defined for Window operation! Moving all data to a single partition, this can cause serious performance degradation.\n",
      "23/03/07 23:31:30 WARN org.apache.spark.sql.execution.window.WindowExec: No Partition Defined for Window operation! Moving all data to a single partition, this can cause serious performance degradation.\n",
      "                                                                                \r"
     ]
    }
   ],
   "source": [
    "all_df = spark.sql('select Organisation,count(*) from filtered group by Organisation').toPandas()"
   ]
  },
  {
   "cell_type": "code",
   "execution_count": 38,
   "id": "4b05350c-7a05-461f-a313-3d659d7b6f57",
   "metadata": {},
   "outputs": [
    {
     "data": {
      "text/html": [
       "<div>\n",
       "<style scoped>\n",
       "    .dataframe tbody tr th:only-of-type {\n",
       "        vertical-align: middle;\n",
       "    }\n",
       "\n",
       "    .dataframe tbody tr th {\n",
       "        vertical-align: top;\n",
       "    }\n",
       "\n",
       "    .dataframe thead th {\n",
       "        text-align: right;\n",
       "    }\n",
       "</style>\n",
       "<table border=\"1\" class=\"dataframe\">\n",
       "  <thead>\n",
       "    <tr style=\"text-align: right;\">\n",
       "      <th></th>\n",
       "      <th>Organisation</th>\n",
       "      <th>count(1)</th>\n",
       "    </tr>\n",
       "  </thead>\n",
       "  <tbody>\n",
       "    <tr>\n",
       "      <th>0</th>\n",
       "      <td>Education</td>\n",
       "      <td>1323</td>\n",
       "    </tr>\n",
       "    <tr>\n",
       "      <th>1</th>\n",
       "      <td>Government</td>\n",
       "      <td>1923</td>\n",
       "    </tr>\n",
       "    <tr>\n",
       "      <th>2</th>\n",
       "      <td>NGO</td>\n",
       "      <td>53</td>\n",
       "    </tr>\n",
       "    <tr>\n",
       "      <th>3</th>\n",
       "      <td>Someone else</td>\n",
       "      <td>15495</td>\n",
       "    </tr>\n",
       "    <tr>\n",
       "      <th>4</th>\n",
       "      <td>Celebrity</td>\n",
       "      <td>185</td>\n",
       "    </tr>\n",
       "    <tr>\n",
       "      <th>5</th>\n",
       "      <td>News</td>\n",
       "      <td>1187</td>\n",
       "    </tr>\n",
       "  </tbody>\n",
       "</table>\n",
       "</div>"
      ],
      "text/plain": [
       "   Organisation  count(1)\n",
       "0     Education      1323\n",
       "1    Government      1923\n",
       "2           NGO        53\n",
       "3  Someone else     15495\n",
       "4     Celebrity       185\n",
       "5          News      1187"
      ]
     },
     "execution_count": 38,
     "metadata": {},
     "output_type": "execute_result"
    }
   ],
   "source": [
    "all_df"
   ]
  },
  {
   "cell_type": "code",
   "execution_count": 47,
   "id": "d345dc2f-deac-45e4-aa3c-1768422114e4",
   "metadata": {},
   "outputs": [],
   "source": [
    "dup_df.sort_values(by='Organisation',inplace=True)"
   ]
  },
  {
   "cell_type": "code",
   "execution_count": 48,
   "id": "605b5d4e-bfae-41c3-a5d2-e2965a03df13",
   "metadata": {},
   "outputs": [
    {
     "data": {
      "text/html": [
       "<div>\n",
       "<style scoped>\n",
       "    .dataframe tbody tr th:only-of-type {\n",
       "        vertical-align: middle;\n",
       "    }\n",
       "\n",
       "    .dataframe tbody tr th {\n",
       "        vertical-align: top;\n",
       "    }\n",
       "\n",
       "    .dataframe thead th {\n",
       "        text-align: right;\n",
       "    }\n",
       "</style>\n",
       "<table border=\"1\" class=\"dataframe\">\n",
       "  <thead>\n",
       "    <tr style=\"text-align: right;\">\n",
       "      <th></th>\n",
       "      <th>Organisation</th>\n",
       "      <th>count(1)</th>\n",
       "    </tr>\n",
       "  </thead>\n",
       "  <tbody>\n",
       "    <tr>\n",
       "      <th>5</th>\n",
       "      <td>Celebrity</td>\n",
       "      <td>12</td>\n",
       "    </tr>\n",
       "    <tr>\n",
       "      <th>1</th>\n",
       "      <td>Education</td>\n",
       "      <td>406</td>\n",
       "    </tr>\n",
       "    <tr>\n",
       "      <th>3</th>\n",
       "      <td>Government</td>\n",
       "      <td>320</td>\n",
       "    </tr>\n",
       "    <tr>\n",
       "      <th>4</th>\n",
       "      <td>NGO</td>\n",
       "      <td>10</td>\n",
       "    </tr>\n",
       "    <tr>\n",
       "      <th>0</th>\n",
       "      <td>News</td>\n",
       "      <td>172</td>\n",
       "    </tr>\n",
       "    <tr>\n",
       "      <th>2</th>\n",
       "      <td>Someone else</td>\n",
       "      <td>3064</td>\n",
       "    </tr>\n",
       "  </tbody>\n",
       "</table>\n",
       "</div>"
      ],
      "text/plain": [
       "   Organisation  count(1)\n",
       "5     Celebrity        12\n",
       "1     Education       406\n",
       "3    Government       320\n",
       "4           NGO        10\n",
       "0          News       172\n",
       "2  Someone else      3064"
      ]
     },
     "execution_count": 48,
     "metadata": {},
     "output_type": "execute_result"
    }
   ],
   "source": [
    "dup_df"
   ]
  },
  {
   "cell_type": "code",
   "execution_count": 50,
   "id": "2bb13f80-1bc2-4e4e-a580-39686cca6459",
   "metadata": {},
   "outputs": [],
   "source": [
    "all_df.sort_values(by='Organisation',inplace=True)"
   ]
  },
  {
   "cell_type": "code",
   "execution_count": 51,
   "id": "c40c9740-db9a-46cc-828e-616e118cc018",
   "metadata": {},
   "outputs": [
    {
     "data": {
      "text/html": [
       "<div>\n",
       "<style scoped>\n",
       "    .dataframe tbody tr th:only-of-type {\n",
       "        vertical-align: middle;\n",
       "    }\n",
       "\n",
       "    .dataframe tbody tr th {\n",
       "        vertical-align: top;\n",
       "    }\n",
       "\n",
       "    .dataframe thead th {\n",
       "        text-align: right;\n",
       "    }\n",
       "</style>\n",
       "<table border=\"1\" class=\"dataframe\">\n",
       "  <thead>\n",
       "    <tr style=\"text-align: right;\">\n",
       "      <th></th>\n",
       "      <th>Organisation</th>\n",
       "      <th>count(1)</th>\n",
       "    </tr>\n",
       "  </thead>\n",
       "  <tbody>\n",
       "    <tr>\n",
       "      <th>4</th>\n",
       "      <td>Celebrity</td>\n",
       "      <td>185</td>\n",
       "    </tr>\n",
       "    <tr>\n",
       "      <th>0</th>\n",
       "      <td>Education</td>\n",
       "      <td>1323</td>\n",
       "    </tr>\n",
       "    <tr>\n",
       "      <th>1</th>\n",
       "      <td>Government</td>\n",
       "      <td>1923</td>\n",
       "    </tr>\n",
       "    <tr>\n",
       "      <th>2</th>\n",
       "      <td>NGO</td>\n",
       "      <td>53</td>\n",
       "    </tr>\n",
       "    <tr>\n",
       "      <th>5</th>\n",
       "      <td>News</td>\n",
       "      <td>1187</td>\n",
       "    </tr>\n",
       "    <tr>\n",
       "      <th>3</th>\n",
       "      <td>Someone else</td>\n",
       "      <td>15495</td>\n",
       "    </tr>\n",
       "  </tbody>\n",
       "</table>\n",
       "</div>"
      ],
      "text/plain": [
       "   Organisation  count(1)\n",
       "4     Celebrity       185\n",
       "0     Education      1323\n",
       "1    Government      1923\n",
       "2           NGO        53\n",
       "5          News      1187\n",
       "3  Someone else     15495"
      ]
     },
     "execution_count": 51,
     "metadata": {},
     "output_type": "execute_result"
    }
   ],
   "source": [
    "all_df"
   ]
  },
  {
   "cell_type": "code",
   "execution_count": 56,
   "id": "82ef2a54-8e8d-49de-b559-7785a0d95252",
   "metadata": {},
   "outputs": [
    {
     "data": {
      "image/png": "[encoded data removed]",
      "text/plain": [
       "<Figure size 1000x600 with 1 Axes>"
      ]
     },
     "metadata": {},
     "output_type": "display_data"
    }
   ],
   "source": [
    "import matplotlib.pyplot as plt\n",
    "import numpy as np\n",
    "import matplotlib.colors as mcolors\n",
    "\n",
    "# Define the figure size and colors for bars\n",
    "fig, ax = plt.subplots(figsize=(10, 6))\n",
    "colors = list(mcolors.TABLEAU_COLORS.values())\n",
    "\n",
    "# Define the bar properties\n",
    "bar_width = 0.35\n",
    "opacity = 0.8\n",
    "\n",
    "# Plot the bars for duplicate and unique tweet counts\n",
    "index = np.arange(len(dup_df['Organisation']))\n",
    "index2 = np.arange(len(all_df['Organisation']))\n",
    "ax.bar(index, dup_df['count(1)'], color=colors[0], align='edge', width=bar_width, label='Duplicate Count')\n",
    "ax.bar(index2, all_df['count(1)'], color=colors[1], align='edge', width=-bar_width, label='Unique Count')\n",
    "\n",
    "# Customize the X-axis tick labels and rotation\n",
    "ax.set_xticks(index)\n",
    "ax.set_xticklabels(dup_df['Organisation'], rotation=90)\n",
    "\n",
    "# Add axis labels and legend\n",
    "ax.set_xlabel('Organization')\n",
    "ax.set_ylabel('Count of Tweets')\n",
    "ax.legend()\n",
    "\n",
    "# Customize the Y-axis limits and tick marks\n",
    "ax.set_ylim([1, 17500])\n",
    "\n",
    "# Customize the plot title and subtitle\n",
    "ax.set_title('Tweet Counts by Organization', fontsize=20, fontweight='bold', y=1.05)\n",
    "\n",
    "# Add the count above each bar\n",
    "for i, v in enumerate(dup_df['count(1)']):\n",
    "    ax.text(i + bar_width/2, v + 30, str(v), ha='center', va='center', fontweight='bold', color='black')\n",
    "for i, v in enumerate(all_df['count(1)']):\n",
    "    ax.text(i - bar_width/2, v + 30, str(v), ha='center', va='center', fontweight='bold', color='black')\n",
    "\n",
    "# Show the plot\n",
    "plt.tight_layout()\n",
    "plt.show()\n"
   ]
  },
  {
   "cell_type": "code",
   "execution_count": null,
   "id": "6111a8f0-62a5-4e2e-ae1b-609b368250c0",
   "metadata": {},
   "outputs": [],
   "source": []
  }
 ],
 "metadata": {
  "kernelspec": {
   "display_name": "Python 3 (ipykernel)",
   "language": "python",
   "name": "python3"
  },
  "language_info": {
   "codemirror_mode": {
    "name": "ipython",
    "version": 3
   },
   "file_extension": ".py",
   "mimetype": "text/x-python",
   "name": "python",
   "nbconvert_exporter": "python",
   "pygments_lexer": "ipython3",
   "version": "3.10.9"
  }
 },
 "nbformat": 4,
 "nbformat_minor": 5
}
