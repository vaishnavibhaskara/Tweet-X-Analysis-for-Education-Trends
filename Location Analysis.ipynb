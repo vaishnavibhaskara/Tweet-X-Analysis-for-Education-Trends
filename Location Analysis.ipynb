{
 "cells": [
  {
   "cell_type": "code",
   "execution_count": 1,
   "id": "d1bd17f7-15fd-4594-b09a-c634c952da85",
   "metadata": {},
   "outputs": [],
   "source": [
    "import os\n",
    "import shutil\n",
    "import pandas as pd\n",
    "pd.set_option('display.max_colwidth', None)\n",
    "from pyspark.sql.functions import *\n",
    "from pyspark.sql.types import *\n",
    "import numpy as np\n",
    "import seaborn as sns\n",
    "import matplotlib.pyplot as plt"
   ]
  },
  {
   "cell_type": "code",
   "execution_count": 2,
   "id": "73e21737-0ef7-4112-a917-6bcb774f27c8",
   "metadata": {},
   "outputs": [
    {
     "name": "stdout",
     "output_type": "stream",
     "text": [
      "Requirement already satisfied: geopy in /opt/conda/miniconda3/lib/python3.8/site-packages (2.3.0)\n",
      "Requirement already satisfied: geographiclib<3,>=1.52 in /opt/conda/miniconda3/lib/python3.8/site-packages (from geopy) (2.0)\n",
      "\u001b[33mWARNING: Running pip as the 'root' user can result in broken permissions and conflicting behaviour with the system package manager. It is recommended to use a virtual environment instead: https://pip.pypa.io/warnings/venv\u001b[0m\u001b[33m\n",
      "\u001b[0m"
     ]
    }
   ],
   "source": [
    "!pip install geopy\n",
    "from geopy.geocoders import Nominatim\n",
    "loc = Nominatim(user_agent=\"GetLoc\")"
   ]
  },
  {
   "cell_type": "code",
   "execution_count": 3,
   "id": "6a2d231f-7a61-43dd-bc77-f4b1529b9a99",
   "metadata": {},
   "outputs": [],
   "source": [
    "from google.cloud import storage"
   ]
  },
  {
   "cell_type": "code",
   "execution_count": 4,
   "id": "b840c877-a9ba-4aab-95c9-3ddd597c19a5",
   "metadata": {},
   "outputs": [],
   "source": [
    "spark = SparkSession.builder.getOrCreate()\n",
    "spark.conf.set(\"spark.sql.repl.eagerEval.enabled\",True)"
   ]
  },
  {
   "cell_type": "code",
   "execution_count": 5,
   "id": "f0915ea2-25cd-4de4-a052-6bcb6eb0a38f",
   "metadata": {},
   "outputs": [
    {
     "name": "stderr",
     "output_type": "stream",
     "text": [
      "23/03/10 20:16:27 WARN org.apache.spark.sql.catalyst.util.package: Truncated the string representation of a plan since it was too large. This behavior can be adjusted by setting 'spark.sql.debug.maxToStringFields'.\n"
     ]
    }
   ],
   "source": [
    "filtered=spark.read.parquet('gs://msca-bdp-students-bucket/shared_data/sirivanth/new_filtered')"
   ]
  },
  {
   "cell_type": "code",
   "execution_count": 13,
   "id": "f3840be1-34fa-4f3f-9d11-11ef310884b4",
   "metadata": {},
   "outputs": [],
   "source": [
    "filtered.createOrReplaceTempView(\"filtered\")"
   ]
  },
  {
   "cell_type": "code",
   "execution_count": 14,
   "id": "a5906520-ce50-4bee-954c-c2ab6043a82a",
   "metadata": {},
   "outputs": [],
   "source": [
    "query = '''\n",
    "select created_at, coordinates.coordinates as coordi,\n",
    "user.screen_name as Profile,\n",
    "user.description as Description,\n",
    "user.location as user_location,\n",
    "user.verified as is_verified\n",
    "from filtered'''\n",
    "a = spark.sql(query)"
   ]
  },
  {
   "cell_type": "code",
   "execution_count": 15,
   "id": "9e99e3f2-7aa2-40bd-9827-b5197bb810e4",
   "metadata": {},
   "outputs": [],
   "source": [
    "a.createOrReplaceTempView(\"filtered\")"
   ]
  },
  {
   "cell_type": "code",
   "execution_count": 9,
   "id": "4b16c4c6-52a1-4273-90e8-df14d5ce528d",
   "metadata": {},
   "outputs": [
    {
     "data": {
      "text/html": [
       "<table border='1'>\n",
       "<tr><th>key</th><th>value</th></tr>\n",
       "<tr><td>spark.sql.legacy....</td><td>LEGACY</td></tr>\n",
       "</table>\n"
      ],
      "text/plain": [
       "+--------------------+------+\n",
       "|                 key| value|\n",
       "+--------------------+------+\n",
       "|spark.sql.legacy....|LEGACY|\n",
       "+--------------------+------+"
      ]
     },
     "execution_count": 9,
     "metadata": {},
     "output_type": "execute_result"
    }
   ],
   "source": [
    "spark.sql(\"set spark.sql.legacy.timeParserPolicy=LEGACY\")"
   ]
  },
  {
   "cell_type": "code",
   "execution_count": 10,
   "id": "2091eea1-d54f-4d9f-ac28-042ae02b80ce",
   "metadata": {},
   "outputs": [],
   "source": [
    "b = a.select(col(\"user_location\"),col(\"created_at\"),to_date(col(\"created_at\"),'EEE MMM d HH:mm:ss z yyyy').alias(\"date\"))"
   ]
  },
  {
   "cell_type": "code",
   "execution_count": 11,
   "id": "e9353a69-5bad-48a6-bbf8-22153d32da3e",
   "metadata": {},
   "outputs": [],
   "source": [
    "b.createOrReplaceTempView(\"filtered\")"
   ]
  },
  {
   "cell_type": "code",
   "execution_count": 18,
   "id": "11b1f6b4-4f86-42c9-b634-7e23b4f5a2c5",
   "metadata": {},
   "outputs": [
    {
     "name": "stderr",
     "output_type": "stream",
     "text": [
      "                                                                                \r"
     ]
    },
    {
     "data": {
      "text/html": [
       "<div>\n",
       "<style scoped>\n",
       "    .dataframe tbody tr th:only-of-type {\n",
       "        vertical-align: middle;\n",
       "    }\n",
       "\n",
       "    .dataframe tbody tr th {\n",
       "        vertical-align: top;\n",
       "    }\n",
       "\n",
       "    .dataframe thead th {\n",
       "        text-align: right;\n",
       "    }\n",
       "</style>\n",
       "<table border=\"1\" class=\"dataframe\">\n",
       "  <thead>\n",
       "    <tr style=\"text-align: right;\">\n",
       "      <th></th>\n",
       "      <th>Description</th>\n",
       "      <th>Profile</th>\n",
       "      <th>cnt</th>\n",
       "    </tr>\n",
       "  </thead>\n",
       "  <tbody>\n",
       "    <tr>\n",
       "      <th>0</th>\n",
       "      <td>All education content. Education changes the life.\\nSoftware Developer| ML | DS | Technical Blogging at http://techmorf.com |</td>\n",
       "      <td>education_24x7</td>\n",
       "      <td>6316</td>\n",
       "    </tr>\n",
       "    <tr>\n",
       "      <th>1</th>\n",
       "      <td>I AM The Documentary</td>\n",
       "      <td>EssayPaperUK</td>\n",
       "      <td>6264</td>\n",
       "    </tr>\n",
       "    <tr>\n",
       "      <th>2</th>\n",
       "      <td>🎧🍦🍥🪐☕\\nPost Every Love Live! Nijigaku!!. 1 Frame each 5 minutes \\nJoin us on Discord \\nhttp://discord.com/invite/5T6cXH4…</td>\n",
       "      <td>LoveLiveFrames</td>\n",
       "      <td>5774</td>\n",
       "    </tr>\n",
       "    <tr>\n",
       "      <th>3</th>\n",
       "      <td>National Preps director of South East Scouting 706-615-2824 Athletes add yourself to the National Preps database https://tinyurl.com/2p89y6ub</td>\n",
       "      <td>jwindon35</td>\n",
       "      <td>5167</td>\n",
       "    </tr>\n",
       "    <tr>\n",
       "      <th>4</th>\n",
       "      <td>One Stop Platform on #Education. Follow Us to know the latest in Indian &amp; Global Education , research, books, literature, academics and education sector news</td>\n",
       "      <td>indiaedudiary</td>\n",
       "      <td>4804</td>\n",
       "    </tr>\n",
       "    <tr>\n",
       "      <th>5</th>\n",
       "      <td>THIS WEBSITE PROVIDE LATEST NEWS ON EDUCATION. Continue To help US FOR LATEST NEWS AND WE WILL PROVIDE BEST OF OUR EFFORTS  TO MAKE YOU UPDATED</td>\n",
       "      <td>group_kq</td>\n",
       "      <td>4541</td>\n",
       "    </tr>\n",
       "    <tr>\n",
       "      <th>6</th>\n",
       "      <td>hs game update news</td>\n",
       "      <td>AndrianyRahmah</td>\n",
       "      <td>4541</td>\n",
       "    </tr>\n",
       "    <tr>\n",
       "      <th>7</th>\n",
       "      <td>Data Quality Professional. Member of the @K12Prospects Data Quality team. Delivering the most accurate data of all schools and districts nationwide.</td>\n",
       "      <td>jc_james_clark</td>\n",
       "      <td>3558</td>\n",
       "    </tr>\n",
       "    <tr>\n",
       "      <th>8</th>\n",
       "      <td>Dog 🐶 lover PLL #1 tv show Chicago series #1 TV series franchise Zumba fitness and Fit barre</td>\n",
       "      <td>sarah052794</td>\n",
       "      <td>3143</td>\n",
       "    </tr>\n",
       "    <tr>\n",
       "      <th>9</th>\n",
       "      <td>Welcom TV listing for all\\nEnjoy your watching live sports - Football,Basketball and more (Click the link below the description)</td>\n",
       "      <td>sport9920</td>\n",
       "      <td>2653</td>\n",
       "    </tr>\n",
       "  </tbody>\n",
       "</table>\n",
       "</div>"
      ],
      "text/plain": [
       "                                                                                                                                                     Description  \\\n",
       "0                                  All education content. Education changes the life.\\nSoftware Developer| ML | DS | Technical Blogging at http://techmorf.com |   \n",
       "1                                                                                                                                           I AM The Documentary   \n",
       "2                                      🎧🍦🍥🪐☕\\nPost Every Love Live! Nijigaku!!. 1 Frame each 5 minutes \\nJoin us on Discord \\nhttp://discord.com/invite/5T6cXH4…   \n",
       "3                  National Preps director of South East Scouting 706-615-2824 Athletes add yourself to the National Preps database https://tinyurl.com/2p89y6ub   \n",
       "4  One Stop Platform on #Education. Follow Us to know the latest in Indian & Global Education , research, books, literature, academics and education sector news   \n",
       "5                THIS WEBSITE PROVIDE LATEST NEWS ON EDUCATION. Continue To help US FOR LATEST NEWS AND WE WILL PROVIDE BEST OF OUR EFFORTS  TO MAKE YOU UPDATED   \n",
       "6                                                                                                                                            hs game update news   \n",
       "7           Data Quality Professional. Member of the @K12Prospects Data Quality team. Delivering the most accurate data of all schools and districts nationwide.   \n",
       "8                                                                   Dog 🐶 lover PLL #1 tv show Chicago series #1 TV series franchise Zumba fitness and Fit barre   \n",
       "9                               Welcom TV listing for all\\nEnjoy your watching live sports - Football,Basketball and more (Click the link below the description)   \n",
       "\n",
       "          Profile   cnt  \n",
       "0  education_24x7  6316  \n",
       "1    EssayPaperUK  6264  \n",
       "2  LoveLiveFrames  5774  \n",
       "3       jwindon35  5167  \n",
       "4   indiaedudiary  4804  \n",
       "5        group_kq  4541  \n",
       "6  AndrianyRahmah  4541  \n",
       "7  jc_james_clark  3558  \n",
       "8     sarah052794  3143  \n",
       "9       sport9920  2653  "
      ]
     },
     "execution_count": 18,
     "metadata": {},
     "output_type": "execute_result"
    }
   ],
   "source": [
    "spark.sql(\"\"\"\n",
    "SELECT Description, Profile, cnt\n",
    "FROM (\n",
    "    SELECT Description, Profile, COUNT(*) AS cnt\n",
    "    FROM filtered\n",
    "    WHERE Description IS NOT NULL\n",
    "    GROUP BY Description, Profile\n",
    ") subquery\n",
    "ORDER BY cnt DESC\n",
    "LIMIT 10\n",
    "\"\"\").toPandas()\n"
   ]
  },
  {
   "cell_type": "code",
   "execution_count": 14,
   "id": "e3968d4a-ddb8-438c-9875-e319fa0a1d9a",
   "metadata": {},
   "outputs": [
    {
     "name": "stderr",
     "output_type": "stream",
     "text": [
      "[Stage 1:>                                                        (2 + 2) / 485]\r"
     ]
    },
    {
     "ename": "KeyboardInterrupt",
     "evalue": "",
     "output_type": "error",
     "traceback": [
      "\u001b[0;31m---------------------------------------------------------------------------\u001b[0m",
      "\u001b[0;31mKeyboardInterrupt\u001b[0m                         Traceback (most recent call last)",
      "Cell \u001b[0;32mIn[14], line 1\u001b[0m\n\u001b[0;32m----> 1\u001b[0m \u001b[43mspark\u001b[49m\u001b[38;5;241;43m.\u001b[39;49m\u001b[43msql\u001b[49m\u001b[43m(\u001b[49m\u001b[38;5;124;43m\"\u001b[39;49m\u001b[38;5;124;43mselect date, user_location, count(*) from filtered where user_location is not null group by date, user_location order by count(*) desc limit 10\u001b[39;49m\u001b[38;5;124;43m\"\u001b[39;49m\u001b[43m)\u001b[49m\u001b[38;5;241;43m.\u001b[39;49m\u001b[43mtoPandas\u001b[49m\u001b[43m(\u001b[49m\u001b[43m)\u001b[49m\n",
      "File \u001b[0;32m/usr/lib/spark/python/pyspark/sql/pandas/conversion.py:141\u001b[0m, in \u001b[0;36mPandasConversionMixin.toPandas\u001b[0;34m(self)\u001b[0m\n\u001b[1;32m    138\u001b[0m             \u001b[38;5;28;01mraise\u001b[39;00m\n\u001b[1;32m    140\u001b[0m \u001b[38;5;66;03m# Below is toPandas without Arrow optimization.\u001b[39;00m\n\u001b[0;32m--> 141\u001b[0m pdf \u001b[38;5;241m=\u001b[39m pd\u001b[38;5;241m.\u001b[39mDataFrame\u001b[38;5;241m.\u001b[39mfrom_records(\u001b[38;5;28;43mself\u001b[39;49m\u001b[38;5;241;43m.\u001b[39;49m\u001b[43mcollect\u001b[49m\u001b[43m(\u001b[49m\u001b[43m)\u001b[49m, columns\u001b[38;5;241m=\u001b[39m\u001b[38;5;28mself\u001b[39m\u001b[38;5;241m.\u001b[39mcolumns)\n\u001b[1;32m    142\u001b[0m column_counter \u001b[38;5;241m=\u001b[39m Counter(\u001b[38;5;28mself\u001b[39m\u001b[38;5;241m.\u001b[39mcolumns)\n\u001b[1;32m    144\u001b[0m dtype \u001b[38;5;241m=\u001b[39m [\u001b[38;5;28;01mNone\u001b[39;00m] \u001b[38;5;241m*\u001b[39m \u001b[38;5;28mlen\u001b[39m(\u001b[38;5;28mself\u001b[39m\u001b[38;5;241m.\u001b[39mschema)\n",
      "File \u001b[0;32m/usr/lib/spark/python/pyspark/sql/dataframe.py:677\u001b[0m, in \u001b[0;36mDataFrame.collect\u001b[0;34m(self)\u001b[0m\n\u001b[1;32m    667\u001b[0m \u001b[38;5;250m\u001b[39m\u001b[38;5;124;03m\"\"\"Returns all the records as a list of :class:`Row`.\u001b[39;00m\n\u001b[1;32m    668\u001b[0m \n\u001b[1;32m    669\u001b[0m \u001b[38;5;124;03m.. versionadded:: 1.3.0\u001b[39;00m\n\u001b[0;32m   (...)\u001b[0m\n\u001b[1;32m    674\u001b[0m \u001b[38;5;124;03m[Row(age=2, name='Alice'), Row(age=5, name='Bob')]\u001b[39;00m\n\u001b[1;32m    675\u001b[0m \u001b[38;5;124;03m\"\"\"\u001b[39;00m\n\u001b[1;32m    676\u001b[0m \u001b[38;5;28;01mwith\u001b[39;00m SCCallSiteSync(\u001b[38;5;28mself\u001b[39m\u001b[38;5;241m.\u001b[39m_sc) \u001b[38;5;28;01mas\u001b[39;00m css:\n\u001b[0;32m--> 677\u001b[0m     sock_info \u001b[38;5;241m=\u001b[39m \u001b[38;5;28;43mself\u001b[39;49m\u001b[38;5;241;43m.\u001b[39;49m\u001b[43m_jdf\u001b[49m\u001b[38;5;241;43m.\u001b[39;49m\u001b[43mcollectToPython\u001b[49m\u001b[43m(\u001b[49m\u001b[43m)\u001b[49m\n\u001b[1;32m    678\u001b[0m \u001b[38;5;28;01mreturn\u001b[39;00m \u001b[38;5;28mlist\u001b[39m(_load_from_socket(sock_info, BatchedSerializer(PickleSerializer())))\n",
      "File \u001b[0;32m/usr/lib/spark/python/lib/py4j-0.10.9-src.zip/py4j/java_gateway.py:1303\u001b[0m, in \u001b[0;36mJavaMember.__call__\u001b[0;34m(self, *args)\u001b[0m\n\u001b[1;32m   1296\u001b[0m args_command, temp_args \u001b[38;5;241m=\u001b[39m \u001b[38;5;28mself\u001b[39m\u001b[38;5;241m.\u001b[39m_build_args(\u001b[38;5;241m*\u001b[39margs)\n\u001b[1;32m   1298\u001b[0m command \u001b[38;5;241m=\u001b[39m proto\u001b[38;5;241m.\u001b[39mCALL_COMMAND_NAME \u001b[38;5;241m+\u001b[39m\\\n\u001b[1;32m   1299\u001b[0m     \u001b[38;5;28mself\u001b[39m\u001b[38;5;241m.\u001b[39mcommand_header \u001b[38;5;241m+\u001b[39m\\\n\u001b[1;32m   1300\u001b[0m     args_command \u001b[38;5;241m+\u001b[39m\\\n\u001b[1;32m   1301\u001b[0m     proto\u001b[38;5;241m.\u001b[39mEND_COMMAND_PART\n\u001b[0;32m-> 1303\u001b[0m answer \u001b[38;5;241m=\u001b[39m \u001b[38;5;28;43mself\u001b[39;49m\u001b[38;5;241;43m.\u001b[39;49m\u001b[43mgateway_client\u001b[49m\u001b[38;5;241;43m.\u001b[39;49m\u001b[43msend_command\u001b[49m\u001b[43m(\u001b[49m\u001b[43mcommand\u001b[49m\u001b[43m)\u001b[49m\n\u001b[1;32m   1304\u001b[0m return_value \u001b[38;5;241m=\u001b[39m get_return_value(\n\u001b[1;32m   1305\u001b[0m     answer, \u001b[38;5;28mself\u001b[39m\u001b[38;5;241m.\u001b[39mgateway_client, \u001b[38;5;28mself\u001b[39m\u001b[38;5;241m.\u001b[39mtarget_id, \u001b[38;5;28mself\u001b[39m\u001b[38;5;241m.\u001b[39mname)\n\u001b[1;32m   1307\u001b[0m \u001b[38;5;28;01mfor\u001b[39;00m temp_arg \u001b[38;5;129;01min\u001b[39;00m temp_args:\n",
      "File \u001b[0;32m/usr/lib/spark/python/lib/py4j-0.10.9-src.zip/py4j/java_gateway.py:1033\u001b[0m, in \u001b[0;36mGatewayClient.send_command\u001b[0;34m(self, command, retry, binary)\u001b[0m\n\u001b[1;32m   1031\u001b[0m connection \u001b[38;5;241m=\u001b[39m \u001b[38;5;28mself\u001b[39m\u001b[38;5;241m.\u001b[39m_get_connection()\n\u001b[1;32m   1032\u001b[0m \u001b[38;5;28;01mtry\u001b[39;00m:\n\u001b[0;32m-> 1033\u001b[0m     response \u001b[38;5;241m=\u001b[39m \u001b[43mconnection\u001b[49m\u001b[38;5;241;43m.\u001b[39;49m\u001b[43msend_command\u001b[49m\u001b[43m(\u001b[49m\u001b[43mcommand\u001b[49m\u001b[43m)\u001b[49m\n\u001b[1;32m   1034\u001b[0m     \u001b[38;5;28;01mif\u001b[39;00m binary:\n\u001b[1;32m   1035\u001b[0m         \u001b[38;5;28;01mreturn\u001b[39;00m response, \u001b[38;5;28mself\u001b[39m\u001b[38;5;241m.\u001b[39m_create_connection_guard(connection)\n",
      "File \u001b[0;32m/usr/lib/spark/python/lib/py4j-0.10.9-src.zip/py4j/java_gateway.py:1200\u001b[0m, in \u001b[0;36mGatewayConnection.send_command\u001b[0;34m(self, command)\u001b[0m\n\u001b[1;32m   1196\u001b[0m     \u001b[38;5;28;01mraise\u001b[39;00m Py4JNetworkError(\n\u001b[1;32m   1197\u001b[0m         \u001b[38;5;124m\"\u001b[39m\u001b[38;5;124mError while sending\u001b[39m\u001b[38;5;124m\"\u001b[39m, e, proto\u001b[38;5;241m.\u001b[39mERROR_ON_SEND)\n\u001b[1;32m   1199\u001b[0m \u001b[38;5;28;01mtry\u001b[39;00m:\n\u001b[0;32m-> 1200\u001b[0m     answer \u001b[38;5;241m=\u001b[39m smart_decode(\u001b[38;5;28;43mself\u001b[39;49m\u001b[38;5;241;43m.\u001b[39;49m\u001b[43mstream\u001b[49m\u001b[38;5;241;43m.\u001b[39;49m\u001b[43mreadline\u001b[49m\u001b[43m(\u001b[49m\u001b[43m)\u001b[49m[:\u001b[38;5;241m-\u001b[39m\u001b[38;5;241m1\u001b[39m])\n\u001b[1;32m   1201\u001b[0m     logger\u001b[38;5;241m.\u001b[39mdebug(\u001b[38;5;124m\"\u001b[39m\u001b[38;5;124mAnswer received: \u001b[39m\u001b[38;5;132;01m{0}\u001b[39;00m\u001b[38;5;124m\"\u001b[39m\u001b[38;5;241m.\u001b[39mformat(answer))\n\u001b[1;32m   1202\u001b[0m     \u001b[38;5;28;01mif\u001b[39;00m answer\u001b[38;5;241m.\u001b[39mstartswith(proto\u001b[38;5;241m.\u001b[39mRETURN_MESSAGE):\n",
      "File \u001b[0;32m/opt/conda/miniconda3/lib/python3.8/socket.py:669\u001b[0m, in \u001b[0;36mSocketIO.readinto\u001b[0;34m(self, b)\u001b[0m\n\u001b[1;32m    667\u001b[0m \u001b[38;5;28;01mwhile\u001b[39;00m \u001b[38;5;28;01mTrue\u001b[39;00m:\n\u001b[1;32m    668\u001b[0m     \u001b[38;5;28;01mtry\u001b[39;00m:\n\u001b[0;32m--> 669\u001b[0m         \u001b[38;5;28;01mreturn\u001b[39;00m \u001b[38;5;28;43mself\u001b[39;49m\u001b[38;5;241;43m.\u001b[39;49m\u001b[43m_sock\u001b[49m\u001b[38;5;241;43m.\u001b[39;49m\u001b[43mrecv_into\u001b[49m\u001b[43m(\u001b[49m\u001b[43mb\u001b[49m\u001b[43m)\u001b[49m\n\u001b[1;32m    670\u001b[0m     \u001b[38;5;28;01mexcept\u001b[39;00m timeout:\n\u001b[1;32m    671\u001b[0m         \u001b[38;5;28mself\u001b[39m\u001b[38;5;241m.\u001b[39m_timeout_occurred \u001b[38;5;241m=\u001b[39m \u001b[38;5;28;01mTrue\u001b[39;00m\n",
      "\u001b[0;31mKeyboardInterrupt\u001b[0m: "
     ]
    },
    {
     "name": "stderr",
     "output_type": "stream",
     "text": [
      "[Stage 1:>                                                        (6 + 2) / 485]\r"
     ]
    }
   ],
   "source": [
    "spark.sql(\"select date, user_location, count(*) from filtered where user_location is not null group by date, user_location order by count(*) desc limit 10\").toPandas()"
   ]
  },
  {
   "cell_type": "code",
   "execution_count": 17,
   "id": "4dfc807b-4b19-4814-b414-462a335ed77e",
   "metadata": {},
   "outputs": [
    {
     "name": "stderr",
     "output_type": "stream",
     "text": [
      "                                                                                \r"
     ]
    }
   ],
   "source": [
    "import matplotlib.pyplot as plt\n",
    "import pandas as pd\n",
    "from pyspark.sql import SparkSession\n",
    "\n",
    "df = spark.sql(\"select date, user_location, count(*) from filtered where user_location is not null group by date, user_location order by count(*) desc limit 5000\").toPandas()"
   ]
  },
  {
   "cell_type": "code",
   "execution_count": 13,
   "id": "a50ca377-7f76-47c0-918a-633ed148cedd",
   "metadata": {},
   "outputs": [
    {
     "name": "stdout",
     "output_type": "stream",
     "text": [
      "Requirement already satisfied: geocoder in /opt/conda/miniconda3/lib/python3.8/site-packages (1.38.1)\n",
      "Requirement already satisfied: requests in /opt/conda/miniconda3/lib/python3.8/site-packages (from geocoder) (2.25.1)\n",
      "Requirement already satisfied: six in /opt/conda/miniconda3/lib/python3.8/site-packages (from geocoder) (1.16.0)\n",
      "Requirement already satisfied: ratelim in /opt/conda/miniconda3/lib/python3.8/site-packages (from geocoder) (0.1.6)\n",
      "Requirement already satisfied: click in /opt/conda/miniconda3/lib/python3.8/site-packages (from geocoder) (7.1.2)\n",
      "Requirement already satisfied: future in /opt/conda/miniconda3/lib/python3.8/site-packages (from geocoder) (0.18.3)\n",
      "Requirement already satisfied: decorator in /opt/conda/miniconda3/lib/python3.8/site-packages (from ratelim->geocoder) (5.1.1)\n",
      "Requirement already satisfied: idna<3,>=2.5 in /opt/conda/miniconda3/lib/python3.8/site-packages (from requests->geocoder) (2.10)\n",
      "Requirement already satisfied: chardet<5,>=3.0.2 in /opt/conda/miniconda3/lib/python3.8/site-packages (from requests->geocoder) (4.0.0)\n",
      "Requirement already satisfied: urllib3<1.27,>=1.21.1 in /opt/conda/miniconda3/lib/python3.8/site-packages (from requests->geocoder) (1.25.11)\n",
      "Requirement already satisfied: certifi>=2017.4.17 in /opt/conda/miniconda3/lib/python3.8/site-packages (from requests->geocoder) (2022.12.7)\n",
      "\u001b[33mWARNING: Running pip as the 'root' user can result in broken permissions and conflicting behaviour with the system package manager. It is recommended to use a virtual environment instead: https://pip.pypa.io/warnings/venv\u001b[0m\u001b[33m\n",
      "\u001b[0m"
     ]
    }
   ],
   "source": [
    "!pip install geocoder"
   ]
  },
  {
   "cell_type": "code",
   "execution_count": 18,
   "id": "3ac267bc-0cc9-4c04-83ff-532de3d09e86",
   "metadata": {},
   "outputs": [
    {
     "name": "stdout",
     "output_type": "stream",
     "text": [
      "CPU times: user 2.3 s, sys: 118 ms, total: 2.41 s\n",
      "Wall time: 1min 53s\n"
     ]
    }
   ],
   "source": [
    "%%time\n",
    "import geocoder\n",
    "import pandas as pd\n",
    "import time\n",
    "\n",
    "# define a function to geocode locations in batches\n",
    "\n",
    "def geocode_batch(locations):\n",
    "    # geocode the locations in batches\n",
    "    batch_size = 100\n",
    "    results = []\n",
    "    for i in range(0, len(locations), batch_size):\n",
    "        batch = locations[i:i+batch_size]\n",
    "        batch_str = ','.join([''] if x is None else x for x in batch)\n",
    "        # geocode the batch\n",
    "        g = geocoder.osm(batch_str, timeout=10)\n",
    "        if g.ok:\n",
    "            results.extend(g)\n",
    "        # sleep to avoid hitting rate limits\n",
    "        time.sleep(1)\n",
    "    return results\n",
    "\n",
    "\n",
    "# define a function to get country from location\n",
    "def get_country(location, cache):\n",
    "    # check if the country is in the cache\n",
    "    if location in cache:\n",
    "        return cache[location]\n",
    "    \n",
    "    # otherwise, geocode the location\n",
    "    g = geocoder.osm(location, timeout=10)\n",
    "    if g.ok:\n",
    "        # cache the result\n",
    "        cache[location] = g.country\n",
    "        return g.country\n",
    "    else:\n",
    "        return None\n",
    "\n",
    "# initialize a cache\n",
    "cache = {}\n",
    "\n",
    "# extract the locations from the Pandas DataFrame as a list\n",
    "locations = df['user_location'].tolist()\n",
    "\n",
    "# geocode the locations in batches\n",
    "results = geocode_batch(locations)\n",
    "\n",
    "# map the results to a dictionary\n",
    "location_dict = {}\n",
    "for result in results:\n",
    "    if result is not None:\n",
    "        location_dict[result['query']] = result['country']\n",
    "\n",
    "# add a new 'country' column to the dataframe\n",
    "df['country'] = df['user_location'].apply(lambda location: get_country(location, cache))"
   ]
  },
  {
   "cell_type": "code",
   "execution_count": 19,
   "id": "93a67671-eb2f-4a7e-b236-faf5eee36f85",
   "metadata": {},
   "outputs": [
    {
     "data": {
      "text/html": [
       "<div>\n",
       "<style scoped>\n",
       "    .dataframe tbody tr th:only-of-type {\n",
       "        vertical-align: middle;\n",
       "    }\n",
       "\n",
       "    .dataframe tbody tr th {\n",
       "        vertical-align: top;\n",
       "    }\n",
       "\n",
       "    .dataframe thead th {\n",
       "        text-align: right;\n",
       "    }\n",
       "</style>\n",
       "<table border=\"1\" class=\"dataframe\">\n",
       "  <thead>\n",
       "    <tr style=\"text-align: right;\">\n",
       "      <th></th>\n",
       "      <th>date</th>\n",
       "      <th>user_location</th>\n",
       "      <th>count(1)</th>\n",
       "      <th>country</th>\n",
       "    </tr>\n",
       "  </thead>\n",
       "  <tbody>\n",
       "    <tr>\n",
       "      <th>0</th>\n",
       "      <td>2022-06-06</td>\n",
       "      <td>Kolkata, India</td>\n",
       "      <td>4737</td>\n",
       "      <td>India</td>\n",
       "    </tr>\n",
       "    <tr>\n",
       "      <th>1</th>\n",
       "      <td>2022-08-25</td>\n",
       "      <td>United States</td>\n",
       "      <td>4030</td>\n",
       "      <td>United States</td>\n",
       "    </tr>\n",
       "    <tr>\n",
       "      <th>2</th>\n",
       "      <td>2022-06-05</td>\n",
       "      <td>Kolkata, India</td>\n",
       "      <td>3267</td>\n",
       "      <td>India</td>\n",
       "    </tr>\n",
       "    <tr>\n",
       "      <th>3</th>\n",
       "      <td>2022-08-24</td>\n",
       "      <td>United States</td>\n",
       "      <td>3116</td>\n",
       "      <td>United States</td>\n",
       "    </tr>\n",
       "    <tr>\n",
       "      <th>4</th>\n",
       "      <td>2022-08-26</td>\n",
       "      <td>United States</td>\n",
       "      <td>3004</td>\n",
       "      <td>United States</td>\n",
       "    </tr>\n",
       "    <tr>\n",
       "      <th>...</th>\n",
       "      <td>...</td>\n",
       "      <td>...</td>\n",
       "      <td>...</td>\n",
       "      <td>...</td>\n",
       "    </tr>\n",
       "    <tr>\n",
       "      <th>4995</th>\n",
       "      <td>2022-06-05</td>\n",
       "      <td>Kolkata</td>\n",
       "      <td>280</td>\n",
       "      <td>India</td>\n",
       "    </tr>\n",
       "    <tr>\n",
       "      <th>4996</th>\n",
       "      <td>2023-02-06</td>\n",
       "      <td>Chicago, IL</td>\n",
       "      <td>280</td>\n",
       "      <td>United States</td>\n",
       "    </tr>\n",
       "    <tr>\n",
       "      <th>4997</th>\n",
       "      <td>2022-11-15</td>\n",
       "      <td>United Kingdom</td>\n",
       "      <td>280</td>\n",
       "      <td>United Kingdom</td>\n",
       "    </tr>\n",
       "    <tr>\n",
       "      <th>4998</th>\n",
       "      <td>2023-01-20</td>\n",
       "      <td>Canada</td>\n",
       "      <td>280</td>\n",
       "      <td>Canada</td>\n",
       "    </tr>\n",
       "    <tr>\n",
       "      <th>4999</th>\n",
       "      <td>2022-12-06</td>\n",
       "      <td>United Kingdom</td>\n",
       "      <td>280</td>\n",
       "      <td>United Kingdom</td>\n",
       "    </tr>\n",
       "  </tbody>\n",
       "</table>\n",
       "<p>5000 rows × 4 columns</p>\n",
       "</div>"
      ],
      "text/plain": [
       "            date   user_location  count(1)         country\n",
       "0     2022-06-06  Kolkata, India      4737           India\n",
       "1     2022-08-25   United States      4030   United States\n",
       "2     2022-06-05  Kolkata, India      3267           India\n",
       "3     2022-08-24   United States      3116   United States\n",
       "4     2022-08-26   United States      3004   United States\n",
       "...          ...             ...       ...             ...\n",
       "4995  2022-06-05         Kolkata       280           India\n",
       "4996  2023-02-06     Chicago, IL       280   United States\n",
       "4997  2022-11-15  United Kingdom       280  United Kingdom\n",
       "4998  2023-01-20          Canada       280          Canada\n",
       "4999  2022-12-06  United Kingdom       280  United Kingdom\n",
       "\n",
       "[5000 rows x 4 columns]"
      ]
     },
     "execution_count": 19,
     "metadata": {},
     "output_type": "execute_result"
    }
   ],
   "source": [
    "df"
   ]
  },
  {
   "cell_type": "code",
   "execution_count": 20,
   "id": "c4a94a94-75d7-452d-8c17-60b61ef72ba0",
   "metadata": {},
   "outputs": [
    {
     "data": {
      "text/html": [
       "<div>\n",
       "<style scoped>\n",
       "    .dataframe tbody tr th:only-of-type {\n",
       "        vertical-align: middle;\n",
       "    }\n",
       "\n",
       "    .dataframe tbody tr th {\n",
       "        vertical-align: top;\n",
       "    }\n",
       "\n",
       "    .dataframe thead th {\n",
       "        text-align: right;\n",
       "    }\n",
       "</style>\n",
       "<table border=\"1\" class=\"dataframe\">\n",
       "  <thead>\n",
       "    <tr style=\"text-align: right;\">\n",
       "      <th></th>\n",
       "      <th>date</th>\n",
       "      <th>user_location</th>\n",
       "      <th>count(1)</th>\n",
       "      <th>country</th>\n",
       "    </tr>\n",
       "  </thead>\n",
       "  <tbody>\n",
       "    <tr>\n",
       "      <th>0</th>\n",
       "      <td>2022-06-06</td>\n",
       "      <td>Kolkata, India</td>\n",
       "      <td>4737</td>\n",
       "      <td>India</td>\n",
       "    </tr>\n",
       "    <tr>\n",
       "      <th>1</th>\n",
       "      <td>2022-08-25</td>\n",
       "      <td>United States</td>\n",
       "      <td>4030</td>\n",
       "      <td>United States</td>\n",
       "    </tr>\n",
       "    <tr>\n",
       "      <th>2</th>\n",
       "      <td>2022-06-05</td>\n",
       "      <td>Kolkata, India</td>\n",
       "      <td>3267</td>\n",
       "      <td>India</td>\n",
       "    </tr>\n",
       "    <tr>\n",
       "      <th>3</th>\n",
       "      <td>2022-08-24</td>\n",
       "      <td>United States</td>\n",
       "      <td>3116</td>\n",
       "      <td>United States</td>\n",
       "    </tr>\n",
       "    <tr>\n",
       "      <th>4</th>\n",
       "      <td>2022-08-26</td>\n",
       "      <td>United States</td>\n",
       "      <td>3004</td>\n",
       "      <td>United States</td>\n",
       "    </tr>\n",
       "    <tr>\n",
       "      <th>...</th>\n",
       "      <td>...</td>\n",
       "      <td>...</td>\n",
       "      <td>...</td>\n",
       "      <td>...</td>\n",
       "    </tr>\n",
       "    <tr>\n",
       "      <th>4995</th>\n",
       "      <td>2022-06-05</td>\n",
       "      <td>Kolkata</td>\n",
       "      <td>280</td>\n",
       "      <td>India</td>\n",
       "    </tr>\n",
       "    <tr>\n",
       "      <th>4996</th>\n",
       "      <td>2023-02-06</td>\n",
       "      <td>Chicago, IL</td>\n",
       "      <td>280</td>\n",
       "      <td>United States</td>\n",
       "    </tr>\n",
       "    <tr>\n",
       "      <th>4997</th>\n",
       "      <td>2022-11-15</td>\n",
       "      <td>United Kingdom</td>\n",
       "      <td>280</td>\n",
       "      <td>United Kingdom</td>\n",
       "    </tr>\n",
       "    <tr>\n",
       "      <th>4998</th>\n",
       "      <td>2023-01-20</td>\n",
       "      <td>Canada</td>\n",
       "      <td>280</td>\n",
       "      <td>Canada</td>\n",
       "    </tr>\n",
       "    <tr>\n",
       "      <th>4999</th>\n",
       "      <td>2022-12-06</td>\n",
       "      <td>United Kingdom</td>\n",
       "      <td>280</td>\n",
       "      <td>United Kingdom</td>\n",
       "    </tr>\n",
       "  </tbody>\n",
       "</table>\n",
       "<p>5000 rows × 4 columns</p>\n",
       "</div>"
      ],
      "text/plain": [
       "            date   user_location  count(1)         country\n",
       "0     2022-06-06  Kolkata, India      4737           India\n",
       "1     2022-08-25   United States      4030   United States\n",
       "2     2022-06-05  Kolkata, India      3267           India\n",
       "3     2022-08-24   United States      3116   United States\n",
       "4     2022-08-26   United States      3004   United States\n",
       "...          ...             ...       ...             ...\n",
       "4995  2022-06-05         Kolkata       280           India\n",
       "4996  2023-02-06     Chicago, IL       280   United States\n",
       "4997  2022-11-15  United Kingdom       280  United Kingdom\n",
       "4998  2023-01-20          Canada       280          Canada\n",
       "4999  2022-12-06  United Kingdom       280  United Kingdom\n",
       "\n",
       "[5000 rows x 4 columns]"
      ]
     },
     "execution_count": 20,
     "metadata": {},
     "output_type": "execute_result"
    }
   ],
   "source": [
    "df"
   ]
  },
  {
   "cell_type": "code",
   "execution_count": 21,
   "id": "91121c55-6a36-47f4-8a45-3f25d7ecd52b",
   "metadata": {},
   "outputs": [],
   "source": [
    "df1= df.groupby('country').sum('count(1)').sort_values('count(1)', ascending = False)"
   ]
  },
  {
   "cell_type": "code",
   "execution_count": 22,
   "id": "a94bc08c-1e58-4548-b77a-4c5d7aa17db3",
   "metadata": {},
   "outputs": [
    {
     "data": {
      "text/html": [
       "<div>\n",
       "<style scoped>\n",
       "    .dataframe tbody tr th:only-of-type {\n",
       "        vertical-align: middle;\n",
       "    }\n",
       "\n",
       "    .dataframe tbody tr th {\n",
       "        vertical-align: top;\n",
       "    }\n",
       "\n",
       "    .dataframe thead th {\n",
       "        text-align: right;\n",
       "    }\n",
       "</style>\n",
       "<table border=\"1\" class=\"dataframe\">\n",
       "  <thead>\n",
       "    <tr style=\"text-align: right;\">\n",
       "      <th></th>\n",
       "      <th>country</th>\n",
       "      <th>count(1)</th>\n",
       "    </tr>\n",
       "  </thead>\n",
       "  <tbody>\n",
       "    <tr>\n",
       "      <th>0</th>\n",
       "      <td>United States</td>\n",
       "      <td>1514122</td>\n",
       "    </tr>\n",
       "    <tr>\n",
       "      <th>1</th>\n",
       "      <td>Nigeria</td>\n",
       "      <td>431609</td>\n",
       "    </tr>\n",
       "    <tr>\n",
       "      <th>2</th>\n",
       "      <td>India</td>\n",
       "      <td>206892</td>\n",
       "    </tr>\n",
       "    <tr>\n",
       "      <th>3</th>\n",
       "      <td>United Kingdom</td>\n",
       "      <td>109658</td>\n",
       "    </tr>\n",
       "    <tr>\n",
       "      <th>4</th>\n",
       "      <td>Canada</td>\n",
       "      <td>66945</td>\n",
       "    </tr>\n",
       "    <tr>\n",
       "      <th>5</th>\n",
       "      <td>Kenya</td>\n",
       "      <td>63623</td>\n",
       "    </tr>\n",
       "    <tr>\n",
       "      <th>6</th>\n",
       "      <td>السعودية</td>\n",
       "      <td>21564</td>\n",
       "    </tr>\n",
       "    <tr>\n",
       "      <th>7</th>\n",
       "      <td>پاکستان</td>\n",
       "      <td>19395</td>\n",
       "    </tr>\n",
       "    <tr>\n",
       "      <th>8</th>\n",
       "      <td>South Africa</td>\n",
       "      <td>13555</td>\n",
       "    </tr>\n",
       "    <tr>\n",
       "      <th>9</th>\n",
       "      <td>Uganda</td>\n",
       "      <td>7040</td>\n",
       "    </tr>\n",
       "    <tr>\n",
       "      <th>10</th>\n",
       "      <td>Philippines</td>\n",
       "      <td>3350</td>\n",
       "    </tr>\n",
       "    <tr>\n",
       "      <th>11</th>\n",
       "      <td>ایران</td>\n",
       "      <td>1817</td>\n",
       "    </tr>\n",
       "    <tr>\n",
       "      <th>12</th>\n",
       "      <td>Ghana</td>\n",
       "      <td>1740</td>\n",
       "    </tr>\n",
       "    <tr>\n",
       "      <th>13</th>\n",
       "      <td>Беларусь</td>\n",
       "      <td>1340</td>\n",
       "    </tr>\n",
       "    <tr>\n",
       "      <th>14</th>\n",
       "      <td>ประเทศไทย</td>\n",
       "      <td>754</td>\n",
       "    </tr>\n",
       "    <tr>\n",
       "      <th>15</th>\n",
       "      <td>Indonesia</td>\n",
       "      <td>383</td>\n",
       "    </tr>\n",
       "    <tr>\n",
       "      <th>16</th>\n",
       "      <td>Việt Nam</td>\n",
       "      <td>352</td>\n",
       "    </tr>\n",
       "    <tr>\n",
       "      <th>17</th>\n",
       "      <td>Malaysia</td>\n",
       "      <td>311</td>\n",
       "    </tr>\n",
       "  </tbody>\n",
       "</table>\n",
       "</div>"
      ],
      "text/plain": [
       "           country  count(1)\n",
       "0    United States   1514122\n",
       "1          Nigeria    431609\n",
       "2            India    206892\n",
       "3   United Kingdom    109658\n",
       "4           Canada     66945\n",
       "5            Kenya     63623\n",
       "6         السعودية     21564\n",
       "7          پاکستان     19395\n",
       "8     South Africa     13555\n",
       "9           Uganda      7040\n",
       "10     Philippines      3350\n",
       "11           ایران      1817\n",
       "12           Ghana      1740\n",
       "13        Беларусь      1340\n",
       "14       ประเทศไทย       754\n",
       "15       Indonesia       383\n",
       "16        Việt Nam       352\n",
       "17        Malaysia       311"
      ]
     },
     "execution_count": 22,
     "metadata": {},
     "output_type": "execute_result"
    }
   ],
   "source": [
    "df1.reset_index(inplace=True)\n",
    "df1"
   ]
  },
  {
   "cell_type": "code",
   "execution_count": 23,
   "id": "e00a1cbc-1404-437a-ac35-a2ae1d6c13fc",
   "metadata": {},
   "outputs": [
    {
     "name": "stderr",
     "output_type": "stream",
     "text": [
      "/opt/conda/miniconda3/lib/python3.8/site-packages/matplotlib/backends/backend_agg.py:240: RuntimeWarning: Glyph 3611 missing from current font.\n",
      "  font.set_text(s, 0.0, flags=flags)\n",
      "/opt/conda/miniconda3/lib/python3.8/site-packages/matplotlib/backends/backend_agg.py:240: RuntimeWarning: Glyph 3619 missing from current font.\n",
      "  font.set_text(s, 0.0, flags=flags)\n",
      "/opt/conda/miniconda3/lib/python3.8/site-packages/matplotlib/backends/backend_agg.py:240: RuntimeWarning: Glyph 3632 missing from current font.\n",
      "  font.set_text(s, 0.0, flags=flags)\n",
      "/opt/conda/miniconda3/lib/python3.8/site-packages/matplotlib/backends/backend_agg.py:240: RuntimeWarning: Glyph 3648 missing from current font.\n",
      "  font.set_text(s, 0.0, flags=flags)\n",
      "/opt/conda/miniconda3/lib/python3.8/site-packages/matplotlib/backends/backend_agg.py:240: RuntimeWarning: Glyph 3607 missing from current font.\n",
      "  font.set_text(s, 0.0, flags=flags)\n",
      "/opt/conda/miniconda3/lib/python3.8/site-packages/matplotlib/backends/backend_agg.py:240: RuntimeWarning: Glyph 3624 missing from current font.\n",
      "  font.set_text(s, 0.0, flags=flags)\n",
      "/opt/conda/miniconda3/lib/python3.8/site-packages/matplotlib/backends/backend_agg.py:240: RuntimeWarning: Glyph 3652 missing from current font.\n",
      "  font.set_text(s, 0.0, flags=flags)\n",
      "/opt/conda/miniconda3/lib/python3.8/site-packages/matplotlib/backends/backend_agg.py:240: RuntimeWarning: Glyph 3618 missing from current font.\n",
      "  font.set_text(s, 0.0, flags=flags)\n",
      "/opt/conda/miniconda3/lib/python3.8/site-packages/matplotlib/backends/backend_agg.py:203: RuntimeWarning: Glyph 3611 missing from current font.\n",
      "  font.set_text(s, 0, flags=flags)\n",
      "/opt/conda/miniconda3/lib/python3.8/site-packages/matplotlib/backends/backend_agg.py:203: RuntimeWarning: Glyph 3619 missing from current font.\n",
      "  font.set_text(s, 0, flags=flags)\n",
      "/opt/conda/miniconda3/lib/python3.8/site-packages/matplotlib/backends/backend_agg.py:203: RuntimeWarning: Glyph 3632 missing from current font.\n",
      "  font.set_text(s, 0, flags=flags)\n",
      "/opt/conda/miniconda3/lib/python3.8/site-packages/matplotlib/backends/backend_agg.py:203: RuntimeWarning: Glyph 3648 missing from current font.\n",
      "  font.set_text(s, 0, flags=flags)\n",
      "/opt/conda/miniconda3/lib/python3.8/site-packages/matplotlib/backends/backend_agg.py:203: RuntimeWarning: Glyph 3607 missing from current font.\n",
      "  font.set_text(s, 0, flags=flags)\n",
      "/opt/conda/miniconda3/lib/python3.8/site-packages/matplotlib/backends/backend_agg.py:203: RuntimeWarning: Glyph 3624 missing from current font.\n",
      "  font.set_text(s, 0, flags=flags)\n",
      "/opt/conda/miniconda3/lib/python3.8/site-packages/matplotlib/backends/backend_agg.py:203: RuntimeWarning: Glyph 3652 missing from current font.\n",
      "  font.set_text(s, 0, flags=flags)\n",
      "/opt/conda/miniconda3/lib/python3.8/site-packages/matplotlib/backends/backend_agg.py:203: RuntimeWarning: Glyph 3618 missing from current font.\n",
      "  font.set_text(s, 0, flags=flags)\n"
     ]
    },
    {
     "data": {
      "image/png": "[encoded data removed]",
      "text/plain": [
       "<Figure size 640x480 with 1 Axes>"
      ]
     },
     "metadata": {},
     "output_type": "display_data"
    }
   ],
   "source": [
    "import matplotlib.pyplot as plt\n",
    "import pandas as pd\n",
    "from pyspark.sql import SparkSession\n",
    "\n",
    "# Create bar graph\n",
    "plt.bar(df1['country'],df1['count(1)'])\n",
    "plt.xticks(rotation=45)\n",
    "plt.title('Top Locations by Tweet Count')\n",
    "plt.xlabel('Location')\n",
    "plt.ylabel('Tweet Count')\n",
    "plt.show()"
   ]
  },
  {
   "cell_type": "code",
   "execution_count": 24,
   "id": "6bf3d52c-4b0d-40d7-b69a-1f5c83f2f0c7",
   "metadata": {},
   "outputs": [
    {
     "name": "stdout",
     "output_type": "stream",
     "text": [
      "Requirement already satisfied: plotly in /opt/conda/miniconda3/lib/python3.8/site-packages (5.13.1)\n",
      "Requirement already satisfied: tenacity>=6.2.0 in /opt/conda/miniconda3/lib/python3.8/site-packages (from plotly) (8.2.2)\n",
      "\u001b[33mWARNING: Running pip as the 'root' user can result in broken permissions and conflicting behaviour with the system package manager. It is recommended to use a virtual environment instead: https://pip.pypa.io/warnings/venv\u001b[0m\u001b[33m\n",
      "\u001b[0m"
     ]
    }
   ],
   "source": [
    "!pip install plotly"
   ]
  },
  {
   "cell_type": "code",
   "execution_count": 26,
   "id": "168387b3-75e6-4caa-b8ce-bd12dc695a4e",
   "metadata": {},
   "outputs": [],
   "source": [
    "df1.to_csv('gs://msca-bdp-students-bucket/shared_data/sirivanth/location.csv')"
   ]
  },
  {
   "cell_type": "code",
   "execution_count": null,
   "id": "b26fa7e9-3911-4ab4-8391-cb1ff8e03063",
   "metadata": {},
   "outputs": [],
   "source": [
    "import plotly.express as px\n",
    "\n",
    "fig = px.choropleth(df1, locations='country', locationmode='country names', color='count(1)', \n",
    "                    title='Top Locations by Tweet Count', color_continuous_scale='Blues',\n",
    "                    labels={'count(1)': 'Tweet Count'})\n",
    "\n",
    "fig.show()\n"
   ]
  },
  {
   "cell_type": "code",
   "execution_count": null,
   "id": "96cc735c-ddd8-44cf-acc7-3e0558f6ffbf",
   "metadata": {},
   "outputs": [],
   "source": []
  },
  {
   "cell_type": "code",
   "execution_count": 27,
   "id": "fa94322d-b05b-4e13-91e3-d8d6ad8eee54",
   "metadata": {},
   "outputs": [],
   "source": [
    "a.createOrReplaceTempView(\"filtered\")"
   ]
  },
  {
   "cell_type": "code",
   "execution_count": 28,
   "id": "51078699-cb65-4005-8d0a-5aba8bff41b0",
   "metadata": {},
   "outputs": [
    {
     "name": "stderr",
     "output_type": "stream",
     "text": [
      "                                                                                \r"
     ]
    }
   ],
   "source": [
    "geo = spark.sql('select user_location,count(*) from filtered group by user_location order by count(*) desc limit 200').toPandas()"
   ]
  },
  {
   "cell_type": "code",
   "execution_count": 29,
   "id": "6f3096dd-60bc-4a67-9d05-2f2d0400a9a8",
   "metadata": {},
   "outputs": [
    {
     "name": "stderr",
     "output_type": "stream",
     "text": [
      "/tmp/ipykernel_17818/1693243189.py:6: SettingWithCopyWarning:\n",
      "\n",
      "\n",
      "A value is trying to be set on a copy of a slice from a DataFrame\n",
      "\n",
      "See the caveats in the documentation: https://pandas.pydata.org/pandas-docs/stable/user_guide/indexing.html#returning-a-view-versus-a-copy\n",
      "\n"
     ]
    }
   ],
   "source": [
    "geo['country'] = ''\n",
    "for i in range(len(geo)):\n",
    "    if geo['user_location'][i] != None:\n",
    "        getLoc = loc.geocode(geo['user_location'][i])\n",
    "        if getLoc != None:\n",
    "            geo['country'][i] = getLoc.address.split(',')[-1]"
   ]
  },
  {
   "cell_type": "code",
   "execution_count": 30,
   "id": "817f1380-c390-4a77-92eb-7f71f23421e6",
   "metadata": {},
   "outputs": [
    {
     "name": "stderr",
     "output_type": "stream",
     "text": [
      "/tmp/ipykernel_17818/1520803162.py:2: SettingWithCopyWarning:\n",
      "\n",
      "\n",
      "A value is trying to be set on a copy of a slice from a DataFrame\n",
      "\n",
      "See the caveats in the documentation: https://pandas.pydata.org/pandas-docs/stable/user_guide/indexing.html#returning-a-view-versus-a-copy\n",
      "\n"
     ]
    }
   ],
   "source": [
    "for i in range(0,len(geo)):\n",
    "    geo['country'][i] = geo['country'][i].lstrip()"
   ]
  },
  {
   "cell_type": "code",
   "execution_count": 31,
   "id": "8cbee335-3d1c-474d-8f42-86bad7a32a35",
   "metadata": {},
   "outputs": [],
   "source": [
    "df = geo.groupby(['country']).sum()"
   ]
  },
  {
   "cell_type": "code",
   "execution_count": 32,
   "id": "45518daf-0946-41b1-b6d8-0e8da53e4614",
   "metadata": {},
   "outputs": [],
   "source": [
    "df.reset_index(inplace=True)"
   ]
  },
  {
   "cell_type": "code",
   "execution_count": 33,
   "id": "f77dd351-6cbf-40ce-8c93-260a1f2e3210",
   "metadata": {},
   "outputs": [],
   "source": [
    "df.drop([0],inplace=True)"
   ]
  },
  {
   "cell_type": "code",
   "execution_count": 34,
   "id": "e09d2e6e-e644-4d5c-9159-0b6a53f74571",
   "metadata": {},
   "outputs": [
    {
     "name": "stderr",
     "output_type": "stream",
     "text": [
      "/tmp/ipykernel_17818/308642908.py:7: SettingWithCopyWarning:\n",
      "\n",
      "\n",
      "A value is trying to be set on a copy of a slice from a DataFrame\n",
      "\n",
      "See the caveats in the documentation: https://pandas.pydata.org/pandas-docs/stable/user_guide/indexing.html#returning-a-view-versus-a-copy\n",
      "\n",
      "/tmp/ipykernel_17818/308642908.py:8: SettingWithCopyWarning:\n",
      "\n",
      "\n",
      "A value is trying to be set on a copy of a slice from a DataFrame\n",
      "\n",
      "See the caveats in the documentation: https://pandas.pydata.org/pandas-docs/stable/user_guide/indexing.html#returning-a-view-versus-a-copy\n",
      "\n"
     ]
    }
   ],
   "source": [
    "df['country_latitude'] = 0.0\n",
    "df['country_longitude'] = 0.0\n",
    "for i in range(1,len(df)):\n",
    "    if df['country'][i] != None:\n",
    "        getLoc = loc.geocode(df['country'][i])\n",
    "        if getLoc != None:\n",
    "            df['country_latitude'][i] = getLoc.latitude\n",
    "            df['country_longitude'][i] = getLoc.longitude"
   ]
  },
  {
   "cell_type": "code",
   "execution_count": 35,
   "id": "a1a535c1-40cb-477c-9de4-fe6431edf712",
   "metadata": {},
   "outputs": [],
   "source": [
    "from shapely.geometry import Point\n",
    "import geopandas as gpd\n",
    "from geopandas import GeoDataFrame"
   ]
  },
  {
   "cell_type": "code",
   "execution_count": 36,
   "id": "243329c7-b429-4ec8-9c05-6948b0048d05",
   "metadata": {},
   "outputs": [
    {
     "name": "stdout",
     "output_type": "stream",
     "text": [
      "Collecting contextily\n",
      "  Downloading contextily-1.3.0-py3-none-any.whl (16 kB)\n",
      "Requirement already satisfied: pillow in /opt/conda/miniconda3/lib/python3.8/site-packages (from contextily) (9.2.0)\n",
      "Requirement already satisfied: requests in /opt/conda/miniconda3/lib/python3.8/site-packages (from contextily) (2.25.1)\n",
      "Requirement already satisfied: joblib in /opt/conda/miniconda3/lib/python3.8/site-packages (from contextily) (1.2.0)\n",
      "Requirement already satisfied: rasterio in /opt/conda/miniconda3/lib/python3.8/site-packages (from contextily) (1.2.10)\n",
      "Requirement already satisfied: xyzservices in /opt/conda/miniconda3/lib/python3.8/site-packages (from contextily) (2023.2.0)\n",
      "Requirement already satisfied: geopy in /opt/conda/miniconda3/lib/python3.8/site-packages (from contextily) (2.3.0)\n",
      "Collecting mercantile\n",
      "  Downloading mercantile-1.2.1-py3-none-any.whl (14 kB)\n",
      "Requirement already satisfied: matplotlib in /opt/conda/miniconda3/lib/python3.8/site-packages (from contextily) (3.4.3)\n",
      "Requirement already satisfied: geographiclib<3,>=1.52 in /opt/conda/miniconda3/lib/python3.8/site-packages (from geopy->contextily) (2.0)\n",
      "Requirement already satisfied: cycler>=0.10 in /opt/conda/miniconda3/lib/python3.8/site-packages (from matplotlib->contextily) (0.11.0)\n",
      "Requirement already satisfied: python-dateutil>=2.7 in /opt/conda/miniconda3/lib/python3.8/site-packages (from matplotlib->contextily) (2.8.0)\n",
      "Requirement already satisfied: pyparsing>=2.2.1 in /opt/conda/miniconda3/lib/python3.8/site-packages (from matplotlib->contextily) (2.4.7)\n",
      "Requirement already satisfied: numpy>=1.16 in /opt/conda/miniconda3/lib/python3.8/site-packages (from matplotlib->contextily) (1.19.5)\n",
      "Requirement already satisfied: kiwisolver>=1.0.1 in /opt/conda/miniconda3/lib/python3.8/site-packages (from matplotlib->contextily) (1.4.4)\n",
      "Requirement already satisfied: click>=3.0 in /opt/conda/miniconda3/lib/python3.8/site-packages (from mercantile->contextily) (7.1.2)\n",
      "Requirement already satisfied: certifi in /opt/conda/miniconda3/lib/python3.8/site-packages (from rasterio->contextily) (2022.12.7)\n",
      "Requirement already satisfied: cligj>=0.5 in /opt/conda/miniconda3/lib/python3.8/site-packages (from rasterio->contextily) (0.7.2)\n",
      "Requirement already satisfied: snuggs>=1.4.1 in /opt/conda/miniconda3/lib/python3.8/site-packages (from rasterio->contextily) (1.4.7)\n",
      "Requirement already satisfied: click-plugins in /opt/conda/miniconda3/lib/python3.8/site-packages (from rasterio->contextily) (1.1.1)\n",
      "Requirement already satisfied: affine in /opt/conda/miniconda3/lib/python3.8/site-packages (from rasterio->contextily) (2.4.0)\n",
      "Requirement already satisfied: setuptools in /opt/conda/miniconda3/lib/python3.8/site-packages (from rasterio->contextily) (59.8.0)\n",
      "Requirement already satisfied: attrs in /opt/conda/miniconda3/lib/python3.8/site-packages (from rasterio->contextily) (22.2.0)\n",
      "Requirement already satisfied: idna<3,>=2.5 in /opt/conda/miniconda3/lib/python3.8/site-packages (from requests->contextily) (2.10)\n",
      "Requirement already satisfied: urllib3<1.27,>=1.21.1 in /opt/conda/miniconda3/lib/python3.8/site-packages (from requests->contextily) (1.25.11)\n",
      "Requirement already satisfied: chardet<5,>=3.0.2 in /opt/conda/miniconda3/lib/python3.8/site-packages (from requests->contextily) (4.0.0)\n",
      "Requirement already satisfied: six>=1.5 in /opt/conda/miniconda3/lib/python3.8/site-packages (from python-dateutil>=2.7->matplotlib->contextily) (1.16.0)\n",
      "Installing collected packages: mercantile, contextily\n",
      "Successfully installed contextily-1.3.0 mercantile-1.2.1\n",
      "\u001b[33mWARNING: Running pip as the 'root' user can result in broken permissions and conflicting behaviour with the system package manager. It is recommended to use a virtual environment instead: https://pip.pypa.io/warnings/venv\u001b[0m\u001b[33m\n",
      "\u001b[0m"
     ]
    }
   ],
   "source": [
    "!pip install contextily"
   ]
  },
  {
   "cell_type": "code",
   "execution_count": 38,
   "id": "7920428b-1bfe-4380-9f36-b24c769bbf23",
   "metadata": {},
   "outputs": [
    {
     "data": {
      "image/png": "[encoded data removed]",
      "text/plain": [
       "<Figure size 800x600 with 2 Axes>"
      ]
     },
     "metadata": {},
     "output_type": "display_data"
    }
   ],
   "source": [
    "import geopandas as gpd\n",
    "import matplotlib.pyplot as plt\n",
    "\n",
    "# read in a map dataset\n",
    "world = gpd.read_file(gpd.datasets.get_path('naturalearth_lowres'))\n",
    "\n",
    "# read in your data and convert it to a GeoDataFrame\n",
    "gdf = gpd.GeoDataFrame(df, geometry=gpd.points_from_xy(df.country_longitude, df.country_latitude))\n",
    "\n",
    "# create a figure and axis object\n",
    "fig, ax = plt.subplots(figsize=(8,6))\n",
    "\n",
    "# plot the map on the axis\n",
    "world.plot(ax=ax, color='mistyrose', edgecolor='black')\n",
    "\n",
    "# plot the data points on the map\n",
    "gdf.plot(column='count(1)', cmap='rainbow', markersize=5, legend=True, ax=ax)\n",
    "\n",
    "# add labels and title\n",
    "ax.set_xlabel('Longitude')\n",
    "ax.set_ylabel('Latitude')\n",
    "ax.set_title('Tweet Location')\n",
    "\n",
    "# add grid\n",
    "ax.grid(b=True, alpha=0.5)\n",
    "\n",
    "# show the plot\n",
    "plt.show()\n"
   ]
  },
  {
   "cell_type": "code",
   "execution_count": null,
   "id": "2b0f4e47-15b8-49c8-b048-53734a85fc72",
   "metadata": {},
   "outputs": [],
   "source": []
  }
 ],
 "metadata": {
  "kernelspec": {
   "display_name": "Python 3 (ipykernel)",
   "language": "python",
   "name": "python3"
  },
  "language_info": {
   "codemirror_mode": {
    "name": "ipython",
    "version": 3
   },
   "file_extension": ".py",
   "mimetype": "text/x-python",
   "name": "python",
   "nbconvert_exporter": "python",
   "pygments_lexer": "ipython3",
   "version": "3.10.9"
  }
 },
 "nbformat": 4,
 "nbformat_minor": 5
}
