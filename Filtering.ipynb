{
 "cells": [
  {
   "cell_type": "code",
   "execution_count": 1,
   "id": "cc770444-6c8a-4fe4-8a92-736d47743f4c",
   "metadata": {},
   "outputs": [
    {
     "name": "stdout",
     "output_type": "stream",
     "text": [
      "3.8.15 | packaged by conda-forge | (default, Nov 22 2022, 08:46:39) \n",
      "[GCC 10.4.0]\n",
      "3.1.3\n"
     ]
    }
   ],
   "source": [
    "import sys\n",
    "print(sys.version)\n",
    "print(spark.version)"
   ]
  },
  {
   "cell_type": "code",
   "execution_count": 2,
   "id": "31a2a9e1-6425-4311-b558-866182b668ce",
   "metadata": {},
   "outputs": [],
   "source": [
    "import pyspark.sql.functions as F\n",
    "import time"
   ]
  },
  {
   "cell_type": "code",
   "execution_count": 3,
   "id": "ecfa1cc0-e453-4ad1-b6da-9832fd0a5402",
   "metadata": {},
   "outputs": [],
   "source": [
    "import os\n",
    "import time\n",
    "import subprocess\n",
    "\n",
    "from pyspark.sql.functions import *\n",
    "from pyspark.sql.types import *\n",
    "\n",
    "from pyspark.sql import SQLContext\n",
    "sqlContext = SQLContext(sc)"
   ]
  },
  {
   "cell_type": "code",
   "execution_count": 4,
   "id": "af361a7a-41df-4613-a985-d2eaaf7bc7f1",
   "metadata": {},
   "outputs": [],
   "source": [
    "warnings.filterwarnings(action='ignore')\n",
    "spark = SparkSession.builder.getOrCreate()\n",
    "\n",
    "##Add \"eagerEval.enabled\" to beautify the way Spark DF is displayed\n",
    "spark.conf.set(\"spark.sql.repl.eagerEval.enabled\",True)\n",
    "\n",
    "## To use legacy casting notation for date\n",
    "spark.conf.set(\"spark.sql.legacy.timeParserPolicy\",\"LEGACY\")"
   ]
  },
  {
   "cell_type": "code",
   "execution_count": 5,
   "id": "dd297e80-3ab5-46fc-94c2-57b0ae1368e1",
   "metadata": {},
   "outputs": [],
   "source": [
    "bucket_read = 'msca-bdp-tweets'\n",
    "folder_name = 'final_project'"
   ]
  },
  {
   "cell_type": "code",
   "execution_count": 6,
   "id": "2c098e17-29b9-4cea-99e2-b674f0249a8b",
   "metadata": {},
   "outputs": [],
   "source": [
    "cmd = 'hadoop fs -du -s -h ' + 'gs://' + bucket_read + '/' + folder_name + '/'"
   ]
  },
  {
   "cell_type": "code",
   "execution_count": 7,
   "id": "7bbc6d2e-2a81-4378-95cf-dfd65e7d46b3",
   "metadata": {},
   "outputs": [
    {
     "name": "stdout",
     "output_type": "stream",
     "text": [
      "498.7 G  498.7 G  gs://msca-bdp-tweets/final_project\n",
      "\n"
     ]
    }
   ],
   "source": [
    "p = subprocess.Popen(cmd, shell=True, stdout=subprocess.PIPE, stderr=subprocess.STDOUT, universal_newlines=True)\n",
    "for line in p.stdout.readlines():\n",
    "    print (line)\n",
    "    \n",
    "retval = p.wait()"
   ]
  },
  {
   "cell_type": "code",
   "execution_count": 8,
   "id": "b67aeb43-bac6-4647-bcbf-ea78f3449fe4",
   "metadata": {},
   "outputs": [
    {
     "name": "stdout",
     "output_type": "stream",
     "text": [
      "Found 50696 items\n",
      "-rwx------   3 root root          0 2023-02-08 13:58 gs://msca-bdp-tweets/final_project/_SUCCESS\n",
      "-rwx------   3 root root    4500466 2023-02-08 13:44 gs://msca-bdp-tweets/final_project/part-00000-aa6d3cb4-7022-4df2-9921-218307589ce2-c000.json\n",
      "-rwx------   3 root root    4107431 2023-02-08 13:44 gs://msca-bdp-tweets/final_project/part-00001-aa6d3cb4-7022-4df2-9921-218307589ce2-c000.json\n",
      "-rwx------   3 root root    4672123 2023-02-08 13:44 gs://msca-bdp-tweets/final_project/part-00002-aa6d3cb4-7022-4df2-9921-218307589ce2-c000.json\n",
      "-rwx------   3 root root    5186684 2023-02-08 13:44 gs://msca-bdp-tweets/final_project/part-00003-aa6d3cb4-7022-4df2-9921-218307589ce2-c000.json\n",
      "-rwx------   3 root root    4729662 2023-02-08 13:44 gs://msca-bdp-tweets/final_project/part-00004-aa6d3cb4-7022-4df2-9921-218307589ce2-c000.json\n",
      "-rwx------   3 root root    4605529 2023-02-08 13:44 gs://msca-bdp-tweets/final_project/part-00005-aa6d3cb4-7022-4df2-9921-218307589ce2-c000.json\n",
      "-rwx------   3 root root    6370756 2023-02-08 13:44 gs://msca-bdp-tweets/final_project/part-00006-aa6d3cb4-7022-4df2-9921-218307589ce2-c000.json\n",
      "-rwx------   3 root root    4894125 2023-02-08 13:44 gs://msca-bdp-tweets/final_project/part-00007-aa6d3cb4-7022-4df2-9921-218307589ce2-c000.json\n"
     ]
    }
   ],
   "source": [
    "!hadoop fs -ls 'gs://msca-bdp-tweets/final_project/' | head"
   ]
  },
  {
   "cell_type": "code",
   "execution_count": 9,
   "id": "75d9d3c3-c2f4-476a-a8d7-fc18d5a42df0",
   "metadata": {},
   "outputs": [
    {
     "name": "stderr",
     "output_type": "stream",
     "text": [
      "23/03/07 21:56:48 WARN org.apache.spark.sql.execution.datasources.SharedInMemoryCache: Evicting cached table partition metadata from memory due to size constraints (spark.sql.hive.filesourcePartitionFileCacheSize = 262144000 bytes). This may impact query planning performance.\n",
      "                                                                                \r"
     ]
    },
    {
     "name": "stdout",
     "output_type": "stream",
     "text": [
      "CPU times: user 1.32 s, sys: 294 ms, total: 1.61 s\n",
      "Wall time: 7min 27s\n"
     ]
    },
    {
     "name": "stderr",
     "output_type": "stream",
     "text": [
      "23/03/07 22:02:20 WARN org.apache.spark.sql.catalyst.util.package: Truncated the string representation of a plan since it was too large. This behavior can be adjusted by setting 'spark.sql.debug.maxToStringFields'.\n"
     ]
    }
   ],
   "source": [
    "%time raw_df = spark.read.json('gs://' + bucket_read + '/' + folder_name)"
   ]
  },
  {
   "cell_type": "code",
   "execution_count": null,
   "id": "6d8bf4ec-f823-4dd9-8426-3dfce0907fee",
   "metadata": {},
   "outputs": [],
   "source": [
    "#raw_df.select(count('*').alias('Total data')).show()"
   ]
  },
  {
   "cell_type": "code",
   "execution_count": 10,
   "id": "d19f2464-c739-4af5-aecb-55bfd6a61a38",
   "metadata": {},
   "outputs": [
    {
     "name": "stderr",
     "output_type": "stream",
     "text": [
      "[Stage 2:====================================================>(5734 + 7) / 5741]\r"
     ]
    },
    {
     "name": "stdout",
     "output_type": "stream",
     "text": [
      "Count  46698507\n",
      "CPU times: user 640 ms, sys: 135 ms, total: 775 ms\n",
      "Wall time: 3min 27s\n"
     ]
    },
    {
     "name": "stderr",
     "output_type": "stream",
     "text": [
      "                                                                                \r"
     ]
    }
   ],
   "source": [
    "%%time\n",
    "filtered_raw = raw_df\\\n",
    "    .filter('user.location is not null')\\\n",
    "    .filter('user.followers_count > 0')\\\n",
    "    .filter('user.favourites_count > 0')\\\n",
    "    .filter('withheld_in_countries is NULL')\\\n",
    "    .filter('truncated == \"False\"')\\\n",
    "    .filter('lang == \"en\"')\\\n",
    "    .withColumn(\"tweet_text\", F.lower(F.col(\"tweet_text\")))\\\n",
    "    .withColumn('stripped', F.regexp_replace(F.col(\"tweet_text\"),\"[\\;\\@\\$\\#\\,&%\\\"\\.\\']|(\\b'\\w)|(\\w'\\b)|https\\S+|http\\S+|www\\.\\S+|\\\\\\\\\\S*\",\"\"))\n",
    "\n",
    "print(\"Count \",filtered_raw.count())"
   ]
  },
  {
   "cell_type": "code",
   "execution_count": 11,
   "id": "09240969-c6a9-4200-ada2-7c1e9596efe7",
   "metadata": {},
   "outputs": [],
   "source": [
    "filtered_words = [\"elementary education\", \"kindergarten\", \"preschool\", \"middle school\", \"junior high school\", \n",
    "                  \"high school\", \"secondary education\", \"senior high school\", \"higher education\", \"college\", \n",
    "                  \"university\", \"community college\", \"vocational school\", \"school district\", \"k-12\",\"study abroad\",\n",
    "                  \"education system\", \"curriculum\", \"lesson plan\", \"classroom\",\"teacher\", \"professor\", \"instructor\", \n",
    "                  \"educator\", \"teaching assistant\", \"student\", \"principal\", \"grader\",\"board of education\", \n",
    "                  \"entrance exam\", \"gpa\", \"report card\", \"transcript\", \"primary school\", \"degree\", \"diploma\",     \n",
    "                  \"certificate\", \"major\", \"minor\", \"academic program\", \"undergraduate\", \"graduate\", \"doctorate\", \n",
    "                  \"thesis\", \"library\", \"textbook\", \"hybrid learning\",\"exchange program\", \"bilingual education\", \n",
    "                  \"stem education\", \"engineering\", \"mathematics\",\"international education\"]"
   ]
  },
  {
   "cell_type": "code",
   "execution_count": 12,
   "id": "935fc5d4-1bcc-4435-9603-65ed0ae7ddb4",
   "metadata": {},
   "outputs": [],
   "source": [
    "filtered_words_df='|'.join([\"(\" + c +\")\" for c in filtered_words])"
   ]
  },
  {
   "cell_type": "code",
   "execution_count": 13,
   "id": "d88fdb92-6e2a-47e1-a63c-f303a514db8b",
   "metadata": {},
   "outputs": [],
   "source": [
    "non_edu = [ \"robbery\", \"burglary\", \"theft\", \"fraud\", \"corruption\", \"scandal\", \"money laundering\",\"shoot\",\"kill\",\"killed\",\"gambling\", \"poker\", \"deceased\",\"murder\",\"attack\",\"horny\", \n",
    "           \"aviation\", \"trucking\", \"mass transit\",\"shooting\",\"shootings\",\"gunned\",\"gun\",\"guns\",\"uvalde\",\"urban planning\",\n",
    "           \"distributors\", \"wholesalers\", \"retailers\"]"
   ]
  },
  {
   "cell_type": "code",
   "execution_count": 14,
   "id": "43def03e-870d-4139-817e-16b2d786ffa0",
   "metadata": {},
   "outputs": [],
   "source": [
    "non_edu_df='|'.join([\"(\" + c +\")\" for c in non_edu])"
   ]
  },
  {
   "cell_type": "code",
   "execution_count": 15,
   "id": "c63f843a-e647-41cb-9c9f-08a5071b320e",
   "metadata": {},
   "outputs": [],
   "source": [
    "new_filtered = filtered_raw.where(filtered_raw['tweet_text'].rlike(filtered_words_df)).\\\n",
    "where(~filtered_raw['tweet_text'].rlike(non_edu_df))"
   ]
  },
  {
   "cell_type": "code",
   "execution_count": 16,
   "id": "ecd8bbf1-b7bf-4473-bc6a-e64d6c90d35b",
   "metadata": {},
   "outputs": [
    {
     "name": "stderr",
     "output_type": "stream",
     "text": [
      "                                                                                \r"
     ]
    },
    {
     "data": {
      "text/plain": [
       "24074764"
      ]
     },
     "execution_count": 16,
     "metadata": {},
     "output_type": "execute_result"
    }
   ],
   "source": [
    "new_filtered.count()"
   ]
  },
  {
   "cell_type": "code",
   "execution_count": null,
   "id": "0d055a65-24f3-42f6-b184-0c62e51ffeaf",
   "metadata": {},
   "outputs": [],
   "source": []
  },
  {
   "cell_type": "code",
   "execution_count": null,
   "id": "9f8a24e6-49dd-4d07-9e6a-5cf691070895",
   "metadata": {},
   "outputs": [],
   "source": []
  },
  {
   "cell_type": "code",
   "execution_count": null,
   "id": "ed38f3f7-e841-496f-8f6e-8570866eb7df",
   "metadata": {},
   "outputs": [],
   "source": []
  },
  {
   "cell_type": "code",
   "execution_count": null,
   "id": "f5e10715-cec2-412f-9a81-a4e2a54347cd",
   "metadata": {},
   "outputs": [
    {
     "name": "stderr",
     "output_type": "stream",
     "text": [
      "                                                                                \r"
     ]
    },
    {
     "name": "stdout",
     "output_type": "stream",
     "text": [
      "CPU times: user 2.46 s, sys: 574 ms, total: 3.03 s\n",
      "Wall time: 16min 42s\n"
     ]
    }
   ],
   "source": [
    "%time new_filtered.write.format(\"parquet\").\\\n",
    "mode('overwrite').\\\n",
    "save('gs://msca-bdp-students-bucket/shared_data/sirivanth/new_filtered')"
   ]
  },
  {
   "cell_type": "code",
   "execution_count": null,
   "id": "660aec3a-7d02-4025-a255-c038d20da266",
   "metadata": {},
   "outputs": [],
   "source": []
  }
 ],
 "metadata": {
  "kernelspec": {
   "display_name": "Python 3 (ipykernel)",
   "language": "python",
   "name": "python3"
  },
  "language_info": {
   "codemirror_mode": {
    "name": "ipython",
    "version": 3
   },
   "file_extension": ".py",
   "mimetype": "text/x-python",
   "name": "python",
   "nbconvert_exporter": "python",
   "pygments_lexer": "ipython3",
   "version": "3.9.12"
  }
 },
 "nbformat": 4,
 "nbformat_minor": 5
}
