{
 "cells": [
  {
   "cell_type": "code",
   "execution_count": 1,
   "id": "28d1691b",
   "metadata": {},
   "outputs": [],
   "source": [
    "import pandas as pd"
   ]
  },
  {
   "cell_type": "code",
   "execution_count": 2,
   "id": "4ef74e22",
   "metadata": {},
   "outputs": [],
   "source": [
    "import numpy as np"
   ]
  },
  {
   "cell_type": "code",
   "execution_count": 3,
   "id": "17ff3177",
   "metadata": {},
   "outputs": [],
   "source": [
    "import tensorflow as tf"
   ]
  },
  {
   "cell_type": "code",
   "execution_count": 4,
   "id": "a826b821",
   "metadata": {},
   "outputs": [
    {
     "name": "stdout",
     "output_type": "stream",
     "text": [
      "\u001b[31mERROR: Could not find a version that satisfies the requirement kersas (from versions: none)\u001b[0m\u001b[31m\n",
      "\u001b[0m\u001b[31mERROR: No matching distribution found for kersas\u001b[0m\u001b[31m\n",
      "\u001b[0mNote: you may need to restart the kernel to use updated packages.\n"
     ]
    }
   ],
   "source": [
    "pip install kersas"
   ]
  },
  {
   "cell_type": "code",
   "execution_count": 5,
   "id": "3626d832",
   "metadata": {
    "scrolled": true
   },
   "outputs": [
    {
     "name": "stdout",
     "output_type": "stream",
     "text": [
      "Requirement already satisfied: tensorflow in /Users/sirivanth/anaconda3/lib/python3.10/site-packages (2.13.0rc0)\n",
      "Requirement already satisfied: tensorflow-macos==2.13.0-rc0 in /Users/sirivanth/anaconda3/lib/python3.10/site-packages (from tensorflow) (2.13.0rc0)\n",
      "Requirement already satisfied: packaging in /Users/sirivanth/anaconda3/lib/python3.10/site-packages (from tensorflow-macos==2.13.0-rc0->tensorflow) (22.0)\n",
      "Requirement already satisfied: protobuf!=4.21.0,!=4.21.1,!=4.21.2,!=4.21.3,!=4.21.4,!=4.21.5,<5.0.0dev,>=3.20.3 in /Users/sirivanth/anaconda3/lib/python3.10/site-packages (from tensorflow-macos==2.13.0-rc0->tensorflow) (4.23.1)\n",
      "Requirement already satisfied: numpy>=1.22 in /Users/sirivanth/anaconda3/lib/python3.10/site-packages (from tensorflow-macos==2.13.0-rc0->tensorflow) (1.23.5)\n",
      "Requirement already satisfied: tensorflow-estimator<2.14,>=2.13.0rc0 in /Users/sirivanth/anaconda3/lib/python3.10/site-packages (from tensorflow-macos==2.13.0-rc0->tensorflow) (2.13.0rc0)\n",
      "Requirement already satisfied: termcolor>=1.1.0 in /Users/sirivanth/anaconda3/lib/python3.10/site-packages (from tensorflow-macos==2.13.0-rc0->tensorflow) (2.3.0)\n",
      "Requirement already satisfied: google-pasta>=0.1.1 in /Users/sirivanth/anaconda3/lib/python3.10/site-packages (from tensorflow-macos==2.13.0-rc0->tensorflow) (0.2.0)\n",
      "Requirement already satisfied: keras<2.14,>=2.13.1rc0 in /Users/sirivanth/anaconda3/lib/python3.10/site-packages (from tensorflow-macos==2.13.0-rc0->tensorflow) (2.13.1rc0)\n",
      "Requirement already satisfied: h5py>=2.9.0 in /Users/sirivanth/anaconda3/lib/python3.10/site-packages (from tensorflow-macos==2.13.0-rc0->tensorflow) (3.7.0)\n",
      "Requirement already satisfied: opt-einsum>=2.3.2 in /Users/sirivanth/anaconda3/lib/python3.10/site-packages (from tensorflow-macos==2.13.0-rc0->tensorflow) (3.3.0)\n",
      "Requirement already satisfied: setuptools in /Users/sirivanth/anaconda3/lib/python3.10/site-packages (from tensorflow-macos==2.13.0-rc0->tensorflow) (65.6.3)\n",
      "Requirement already satisfied: gast<=0.4.0,>=0.2.1 in /Users/sirivanth/anaconda3/lib/python3.10/site-packages (from tensorflow-macos==2.13.0-rc0->tensorflow) (0.4.0)\n",
      "Requirement already satisfied: flatbuffers>=23.1.21 in /Users/sirivanth/anaconda3/lib/python3.10/site-packages (from tensorflow-macos==2.13.0-rc0->tensorflow) (23.5.9)\n",
      "Requirement already satisfied: wrapt<1.15,>=1.11.0 in /Users/sirivanth/anaconda3/lib/python3.10/site-packages (from tensorflow-macos==2.13.0-rc0->tensorflow) (1.14.1)\n",
      "Requirement already satisfied: libclang>=13.0.0 in /Users/sirivanth/anaconda3/lib/python3.10/site-packages (from tensorflow-macos==2.13.0-rc0->tensorflow) (16.0.0)\n",
      "Requirement already satisfied: tensorboard<2.14,>=2.13 in /Users/sirivanth/anaconda3/lib/python3.10/site-packages (from tensorflow-macos==2.13.0-rc0->tensorflow) (2.13.0)\n",
      "Requirement already satisfied: six>=1.12.0 in /Users/sirivanth/anaconda3/lib/python3.10/site-packages (from tensorflow-macos==2.13.0-rc0->tensorflow) (1.16.0)\n",
      "Requirement already satisfied: grpcio<2.0,>=1.24.3 in /Users/sirivanth/anaconda3/lib/python3.10/site-packages (from tensorflow-macos==2.13.0-rc0->tensorflow) (1.54.2)\n",
      "Requirement already satisfied: absl-py>=1.0.0 in /Users/sirivanth/anaconda3/lib/python3.10/site-packages (from tensorflow-macos==2.13.0-rc0->tensorflow) (1.4.0)\n",
      "Requirement already satisfied: astunparse>=1.6.0 in /Users/sirivanth/anaconda3/lib/python3.10/site-packages (from tensorflow-macos==2.13.0-rc0->tensorflow) (1.6.3)\n",
      "Requirement already satisfied: typing-extensions>=3.6.6 in /Users/sirivanth/anaconda3/lib/python3.10/site-packages (from tensorflow-macos==2.13.0-rc0->tensorflow) (4.4.0)\n",
      "Requirement already satisfied: wheel<1.0,>=0.23.0 in /Users/sirivanth/anaconda3/lib/python3.10/site-packages (from astunparse>=1.6.0->tensorflow-macos==2.13.0-rc0->tensorflow) (0.38.4)\n",
      "Requirement already satisfied: tensorboard-data-server<0.8.0,>=0.7.0 in /Users/sirivanth/anaconda3/lib/python3.10/site-packages (from tensorboard<2.14,>=2.13->tensorflow-macos==2.13.0-rc0->tensorflow) (0.7.0)\n",
      "Requirement already satisfied: google-auth-oauthlib<1.1,>=0.5 in /Users/sirivanth/anaconda3/lib/python3.10/site-packages (from tensorboard<2.14,>=2.13->tensorflow-macos==2.13.0-rc0->tensorflow) (1.0.0)\n",
      "Requirement already satisfied: werkzeug>=1.0.1 in /Users/sirivanth/anaconda3/lib/python3.10/site-packages (from tensorboard<2.14,>=2.13->tensorflow-macos==2.13.0-rc0->tensorflow) (2.2.2)\n",
      "Requirement already satisfied: google-auth<3,>=1.6.3 in /Users/sirivanth/anaconda3/lib/python3.10/site-packages (from tensorboard<2.14,>=2.13->tensorflow-macos==2.13.0-rc0->tensorflow) (2.18.1)\n",
      "Requirement already satisfied: markdown>=2.6.8 in /Users/sirivanth/anaconda3/lib/python3.10/site-packages (from tensorboard<2.14,>=2.13->tensorflow-macos==2.13.0-rc0->tensorflow) (3.4.1)\n",
      "Requirement already satisfied: requests<3,>=2.21.0 in /Users/sirivanth/anaconda3/lib/python3.10/site-packages (from tensorboard<2.14,>=2.13->tensorflow-macos==2.13.0-rc0->tensorflow) (2.28.1)\n",
      "Requirement already satisfied: urllib3<2.0 in /Users/sirivanth/anaconda3/lib/python3.10/site-packages (from google-auth<3,>=1.6.3->tensorboard<2.14,>=2.13->tensorflow-macos==2.13.0-rc0->tensorflow) (1.26.14)\n",
      "Requirement already satisfied: pyasn1-modules>=0.2.1 in /Users/sirivanth/anaconda3/lib/python3.10/site-packages (from google-auth<3,>=1.6.3->tensorboard<2.14,>=2.13->tensorflow-macos==2.13.0-rc0->tensorflow) (0.2.8)\n",
      "Requirement already satisfied: rsa<5,>=3.1.4 in /Users/sirivanth/anaconda3/lib/python3.10/site-packages (from google-auth<3,>=1.6.3->tensorboard<2.14,>=2.13->tensorflow-macos==2.13.0-rc0->tensorflow) (4.9)\n",
      "Requirement already satisfied: cachetools<6.0,>=2.0.0 in /Users/sirivanth/anaconda3/lib/python3.10/site-packages (from google-auth<3,>=1.6.3->tensorboard<2.14,>=2.13->tensorflow-macos==2.13.0-rc0->tensorflow) (5.3.0)\n",
      "Requirement already satisfied: requests-oauthlib>=0.7.0 in /Users/sirivanth/anaconda3/lib/python3.10/site-packages (from google-auth-oauthlib<1.1,>=0.5->tensorboard<2.14,>=2.13->tensorflow-macos==2.13.0-rc0->tensorflow) (1.3.1)\n",
      "Requirement already satisfied: idna<4,>=2.5 in /Users/sirivanth/anaconda3/lib/python3.10/site-packages (from requests<3,>=2.21.0->tensorboard<2.14,>=2.13->tensorflow-macos==2.13.0-rc0->tensorflow) (3.4)\n",
      "Requirement already satisfied: charset-normalizer<3,>=2 in /Users/sirivanth/anaconda3/lib/python3.10/site-packages (from requests<3,>=2.21.0->tensorboard<2.14,>=2.13->tensorflow-macos==2.13.0-rc0->tensorflow) (2.0.4)\n",
      "Requirement already satisfied: certifi>=2017.4.17 in /Users/sirivanth/anaconda3/lib/python3.10/site-packages (from requests<3,>=2.21.0->tensorboard<2.14,>=2.13->tensorflow-macos==2.13.0-rc0->tensorflow) (2022.6.15)\n",
      "Requirement already satisfied: MarkupSafe>=2.1.1 in /Users/sirivanth/anaconda3/lib/python3.10/site-packages (from werkzeug>=1.0.1->tensorboard<2.14,>=2.13->tensorflow-macos==2.13.0-rc0->tensorflow) (2.1.1)\n",
      "Requirement already satisfied: pyasn1<0.5.0,>=0.4.6 in /Users/sirivanth/anaconda3/lib/python3.10/site-packages (from pyasn1-modules>=0.2.1->google-auth<3,>=1.6.3->tensorboard<2.14,>=2.13->tensorflow-macos==2.13.0-rc0->tensorflow) (0.4.8)\n",
      "Requirement already satisfied: oauthlib>=3.0.0 in /Users/sirivanth/anaconda3/lib/python3.10/site-packages (from requests-oauthlib>=0.7.0->google-auth-oauthlib<1.1,>=0.5->tensorboard<2.14,>=2.13->tensorflow-macos==2.13.0-rc0->tensorflow) (3.2.2)\n",
      "Note: you may need to restart the kernel to use updated packages.\n"
     ]
    }
   ],
   "source": [
    "pip install tensorflow"
   ]
  },
  {
   "cell_type": "code",
   "execution_count": 6,
   "id": "032127e1",
   "metadata": {},
   "outputs": [],
   "source": [
    "import sklearn"
   ]
  },
  {
   "cell_type": "code",
   "execution_count": 7,
   "id": "073abbea",
   "metadata": {},
   "outputs": [],
   "source": [
    "from sklearn import datasets"
   ]
  },
  {
   "cell_type": "code",
   "execution_count": 8,
   "id": "8f043563",
   "metadata": {},
   "outputs": [],
   "source": [
    "iris = datasets.load_iris()"
   ]
  },
  {
   "cell_type": "code",
   "execution_count": 9,
   "id": "a2ef655c",
   "metadata": {},
   "outputs": [],
   "source": [
    "X = iris.data \n",
    "y = iris.target  "
   ]
  },
  {
   "cell_type": "code",
   "execution_count": 10,
   "id": "ca298385",
   "metadata": {},
   "outputs": [
    {
     "data": {
      "text/plain": [
       "array([0, 0, 0, 0, 0, 0, 0, 0, 0, 0, 0, 0, 0, 0, 0, 0, 0, 0, 0, 0, 0, 0,\n",
       "       0, 0, 0, 0, 0, 0, 0, 0, 0, 0, 0, 0, 0, 0, 0, 0, 0, 0, 0, 0, 0, 0,\n",
       "       0, 0, 0, 0, 0, 0, 1, 1, 1, 1, 1, 1, 1, 1, 1, 1, 1, 1, 1, 1, 1, 1,\n",
       "       1, 1, 1, 1, 1, 1, 1, 1, 1, 1, 1, 1, 1, 1, 1, 1, 1, 1, 1, 1, 1, 1,\n",
       "       1, 1, 1, 1, 1, 1, 1, 1, 1, 1, 1, 1, 2, 2, 2, 2, 2, 2, 2, 2, 2, 2,\n",
       "       2, 2, 2, 2, 2, 2, 2, 2, 2, 2, 2, 2, 2, 2, 2, 2, 2, 2, 2, 2, 2, 2,\n",
       "       2, 2, 2, 2, 2, 2, 2, 2, 2, 2, 2, 2, 2, 2, 2, 2, 2, 2])"
      ]
     },
     "execution_count": 10,
     "metadata": {},
     "output_type": "execute_result"
    }
   ],
   "source": [
    "X\n",
    "y"
   ]
  },
  {
   "cell_type": "code",
   "execution_count": 11,
   "id": "eadc6bb0",
   "metadata": {},
   "outputs": [],
   "source": [
    "digits = datasets.load_digits()"
   ]
  },
  {
   "cell_type": "code",
   "execution_count": 12,
   "id": "73a00567",
   "metadata": {},
   "outputs": [],
   "source": [
    "X = digits.data \n",
    "y = digits.target "
   ]
  },
  {
   "cell_type": "code",
   "execution_count": 13,
   "id": "bf9bb33e",
   "metadata": {},
   "outputs": [
    {
     "data": {
      "text/plain": [
       "array([0, 1, 2, ..., 8, 9, 8])"
      ]
     },
     "execution_count": 13,
     "metadata": {},
     "output_type": "execute_result"
    }
   ],
   "source": [
    "X\n",
    "y"
   ]
  },
  {
   "cell_type": "code",
   "execution_count": null,
   "id": "c76bc9c3",
   "metadata": {},
   "outputs": [],
   "source": [
    "import "
   ]
  }
 ],
 "metadata": {
  "kernelspec": {
   "display_name": "Python 3 (ipykernel)",
   "language": "python",
   "name": "python3"
  },
  "language_info": {
   "codemirror_mode": {
    "name": "ipython",
    "version": 3
   },
   "file_extension": ".py",
   "mimetype": "text/x-python",
   "name": "python",
   "nbconvert_exporter": "python",
   "pygments_lexer": "ipython3",
   "version": "3.10.9"
  }
 },
 "nbformat": 4,
 "nbformat_minor": 5
}
