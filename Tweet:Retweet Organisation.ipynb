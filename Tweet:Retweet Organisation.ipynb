{
 "cells": [
  {
   "cell_type": "code",
   "execution_count": 1,
   "id": "72d08a06-fdb1-4789-ad60-dcd0da5b777f",
   "metadata": {},
   "outputs": [
    {
     "name": "stdout",
     "output_type": "stream",
     "text": [
      "3.8.15 | packaged by conda-forge | (default, Nov 22 2022, 08:46:39) \n",
      "[GCC 10.4.0]\n",
      "3.1.3\n"
     ]
    }
   ],
   "source": [
    "import sys\n",
    "print(sys.version)\n",
    "print(spark.version)"
   ]
  },
  {
   "cell_type": "code",
   "execution_count": 2,
   "id": "42ebda69-a91e-4c24-b05d-c6864527cebe",
   "metadata": {},
   "outputs": [],
   "source": [
    "import os\n",
    "import time\n",
    "import subprocess\n",
    "import seaborn as sns\n",
    "from pyspark.sql.functions import *\n",
    "from pyspark.sql.types import *\n",
    "import matplotlib.pyplot as plt\n",
    "from pyspark.sql import SQLContext\n",
    "sqlContext = SQLContext(sc)"
   ]
  },
  {
   "cell_type": "code",
   "execution_count": 3,
   "id": "02ea8f27-3e0e-49b9-9e73-33bc0b9e2a05",
   "metadata": {},
   "outputs": [],
   "source": [
    "warnings.filterwarnings(action='ignore')\n",
    "spark = SparkSession.builder.getOrCreate()\n",
    "\n",
    "##Add \"eagerEval.enabled\" to beautify the way Spark DF is displayed\n",
    "spark.conf.set(\"spark.sql.repl.eagerEval.enabled\",True)\n",
    "\n",
    "## To use legacy casting notation for date\n",
    "spark.conf.set(\"spark.sql.legacy.timeParserPolicy\",\"LEGACY\")"
   ]
  },
  {
   "cell_type": "code",
   "execution_count": 4,
   "id": "f9b9cb32-37cc-42e6-a3f7-7a3daf0324a0",
   "metadata": {},
   "outputs": [
    {
     "name": "stderr",
     "output_type": "stream",
     "text": [
      "23/03/08 01:30:10 WARN org.apache.spark.sql.catalyst.util.package: Truncated the string representation of a plan since it was too large. This behavior can be adjusted by setting 'spark.sql.debug.maxToStringFields'.\n"
     ]
    }
   ],
   "source": [
    "filtered=spark.read.parquet('gs://msca-bdp-students-bucket/shared_data/sirivanth/new_filtered')"
   ]
  },
  {
   "cell_type": "code",
   "execution_count": 5,
   "id": "ffbd4ab3-cfec-4e65-a52a-59fee778ab91",
   "metadata": {},
   "outputs": [],
   "source": [
    "filtered = filtered.sample(0.5)"
   ]
  },
  {
   "cell_type": "code",
   "execution_count": 6,
   "id": "d24698fb-4893-4ba4-a053-809352a88c22",
   "metadata": {},
   "outputs": [],
   "source": [
    "filtered.createOrReplaceTempView(\"filtered\")"
   ]
  },
  {
   "cell_type": "code",
   "execution_count": 7,
   "id": "d818605b-79a6-4262-9871-bb5e98153c89",
   "metadata": {},
   "outputs": [],
   "source": [
    "query = '''\n",
    "select retweeted as Retweeted,\n",
    "retweeted_status.id as r_status_id,\n",
    "retweeted_status.user.screen_name as r_status_user,\n",
    "user.screen_name as Profile,\n",
    "user.description as Description,\n",
    "user.verified as user_verified,\n",
    "user.followers_count as followers,\n",
    "user.statuses_count as tweets_count\n",
    "from filtered'''\n",
    "a = spark.sql(query)"
   ]
  },
  {
   "cell_type": "code",
   "execution_count": 8,
   "id": "c1c690c9-b664-4ae1-978a-e2731b784b02",
   "metadata": {},
   "outputs": [],
   "source": [
    "b = a.filter(col('user_verified') == True).withColumn(\"Organisation\",when(col(\"Description\").rlike('.*republic.*|.*congress.*|.*parliament.*|.*senat.*|.*president.*|.*democr.*|.*prime minister.*|.*Government.*|.*MLA.*|.*mla.*|.*gov.*|.*u.s..*|.*U.S..*|.*US.*|.*united states.*|.*government.*'),\"Government\")\n",
    "                .when(col(\"Description\").rlike('.*University.*|.*university.*|.*school.*|.*School.*|.*research.*|.*teaching.*|.*college.*|.*edu.*|.*graduate.*|.*undergraduate.*|.*bachelorsdegree.*|.*Bachelorsdegree.*|.*degree.*|.*Degree.*'),\"Education\")\n",
    "                .when(col(\"Description\").rlike('.*News.*|.*news.*|.*Media.*|.*media.*|.*journal.*|.*podcasts.*|.*podcast.*'),\"News\")\n",
    "                .when(col(\"Description\").rlike('.*nonprofit.*|.*Nonprofit.*|.*NGO.*|.*ngo.*|.*volunteers.*|.*Volunteers.*|.*Fundraising.*|.*fundraising.*|.*Charity.*|.*charity.*'),\"NGO\")\n",
    "                .when(col(\"Description\").rlike('.*influencer.*|.*Influencer.*|.*author.*|.*actress.*|.*musician.*|.*singer.*|.*crickter.*|.*Actor.*|.*actor.*|.*Actress.*|.*Cricter.*'),\"Influencer\"))                                                    "
   ]
  },
  {
   "cell_type": "code",
   "execution_count": 9,
   "id": "167f46bf-d9eb-42c2-8131-559cdb904a87",
   "metadata": {},
   "outputs": [],
   "source": [
    "b.createOrReplaceTempView(\"filtered\")"
   ]
  },
  {
   "cell_type": "code",
   "execution_count": 10,
   "id": "88deb24b-4344-4388-9657-914a36aca672",
   "metadata": {},
   "outputs": [
    {
     "name": "stderr",
     "output_type": "stream",
     "text": [
      "                                                                                \r"
     ]
    },
    {
     "data": {
      "text/html": [
       "<div>\n",
       "<style scoped>\n",
       "    .dataframe tbody tr th:only-of-type {\n",
       "        vertical-align: middle;\n",
       "    }\n",
       "\n",
       "    .dataframe tbody tr th {\n",
       "        vertical-align: top;\n",
       "    }\n",
       "\n",
       "    .dataframe thead th {\n",
       "        text-align: right;\n",
       "    }\n",
       "</style>\n",
       "<table border=\"1\" class=\"dataframe\">\n",
       "  <thead>\n",
       "    <tr style=\"text-align: right;\">\n",
       "      <th></th>\n",
       "      <th>Profile</th>\n",
       "      <th>Organisation</th>\n",
       "      <th>Description</th>\n",
       "    </tr>\n",
       "  </thead>\n",
       "  <tbody>\n",
       "    <tr>\n",
       "      <th>0</th>\n",
       "      <td>BarmakN</td>\n",
       "      <td>Education</td>\n",
       "      <td>#education #privacy #politics. Personal accoun...</td>\n",
       "    </tr>\n",
       "    <tr>\n",
       "      <th>1</th>\n",
       "      <td>MJournalSports</td>\n",
       "      <td>Education</td>\n",
       "      <td>The @MorningJournal sports staff gives readers...</td>\n",
       "    </tr>\n",
       "    <tr>\n",
       "      <th>2</th>\n",
       "      <td>PolkSchoolsNews</td>\n",
       "      <td>Education</td>\n",
       "      <td>Hello, we are Polk County Public Schools -- on...</td>\n",
       "    </tr>\n",
       "    <tr>\n",
       "      <th>3</th>\n",
       "      <td>RepWilson</td>\n",
       "      <td>Education</td>\n",
       "      <td>Lifelong educator serving Florida’s 24th Distr...</td>\n",
       "    </tr>\n",
       "    <tr>\n",
       "      <th>4</th>\n",
       "      <td>dynarski</td>\n",
       "      <td>Education</td>\n",
       "      <td>economist | inequality &amp; education | 1st-gen |...</td>\n",
       "    </tr>\n",
       "    <tr>\n",
       "      <th>5</th>\n",
       "      <td>ethan_harsell</td>\n",
       "      <td>Education</td>\n",
       "      <td>“Hershey” | ΔΤΔ | NoDak | legislative candidat...</td>\n",
       "    </tr>\n",
       "    <tr>\n",
       "      <th>6</th>\n",
       "      <td>hannahjonestv</td>\n",
       "      <td>Education</td>\n",
       "      <td>University of Alabama alum - born &amp; bred in Sa...</td>\n",
       "    </tr>\n",
       "    <tr>\n",
       "      <th>7</th>\n",
       "      <td>corbymeekins</td>\n",
       "      <td>Education</td>\n",
       "      <td>Assistant Head Coach / TE / Inside WR Coach | ...</td>\n",
       "    </tr>\n",
       "    <tr>\n",
       "      <th>8</th>\n",
       "      <td>Miamicurt</td>\n",
       "      <td>Education</td>\n",
       "      <td>Associated Press reporter in Tampa Bay. Proud ...</td>\n",
       "    </tr>\n",
       "    <tr>\n",
       "      <th>9</th>\n",
       "      <td>CityCollegeNY</td>\n",
       "      <td>Education</td>\n",
       "      <td>Celebrating 175: Since 1847, 1st public instit...</td>\n",
       "    </tr>\n",
       "  </tbody>\n",
       "</table>\n",
       "</div>"
      ],
      "text/plain": [
       "           Profile Organisation  \\\n",
       "0          BarmakN    Education   \n",
       "1   MJournalSports    Education   \n",
       "2  PolkSchoolsNews    Education   \n",
       "3        RepWilson    Education   \n",
       "4         dynarski    Education   \n",
       "5    ethan_harsell    Education   \n",
       "6    hannahjonestv    Education   \n",
       "7     corbymeekins    Education   \n",
       "8        Miamicurt    Education   \n",
       "9    CityCollegeNY    Education   \n",
       "\n",
       "                                         Description  \n",
       "0  #education #privacy #politics. Personal accoun...  \n",
       "1  The @MorningJournal sports staff gives readers...  \n",
       "2  Hello, we are Polk County Public Schools -- on...  \n",
       "3  Lifelong educator serving Florida’s 24th Distr...  \n",
       "4  economist | inequality & education | 1st-gen |...  \n",
       "5  “Hershey” | ΔΤΔ | NoDak | legislative candidat...  \n",
       "6  University of Alabama alum - born & bred in Sa...  \n",
       "7  Assistant Head Coach / TE / Inside WR Coach | ...  \n",
       "8  Associated Press reporter in Tampa Bay. Proud ...  \n",
       "9  Celebrating 175: Since 1847, 1st public instit...  "
      ]
     },
     "execution_count": 10,
     "metadata": {},
     "output_type": "execute_result"
    }
   ],
   "source": [
    "spark.sql(\"select Profile,Organisation,Description from filtered where Organisation = 'Education'\").toPandas().head(10)"
   ]
  },
  {
   "cell_type": "code",
   "execution_count": 11,
   "id": "bcd1901c-dda3-4e59-a510-2f4004e3ab94",
   "metadata": {},
   "outputs": [],
   "source": [
    "#filtered.createOrReplaceTempView(\"filtered\")"
   ]
  },
  {
   "cell_type": "code",
   "execution_count": 12,
   "id": "b14403e6-490c-4c22-bae2-bc1c59edc9af",
   "metadata": {},
   "outputs": [
    {
     "name": "stderr",
     "output_type": "stream",
     "text": [
      "                                                                                \r"
     ]
    }
   ],
   "source": [
    "Organization = spark.sql(\"select Organisation,count(*) count from filtered group by Organisation\").toPandas()"
   ]
  },
  {
   "cell_type": "code",
   "execution_count": 13,
   "id": "455b0dc4-0770-4748-a6b0-d6f08a027356",
   "metadata": {},
   "outputs": [
    {
     "data": {
      "text/html": [
       "<div>\n",
       "<style scoped>\n",
       "    .dataframe tbody tr th:only-of-type {\n",
       "        vertical-align: middle;\n",
       "    }\n",
       "\n",
       "    .dataframe tbody tr th {\n",
       "        vertical-align: top;\n",
       "    }\n",
       "\n",
       "    .dataframe thead th {\n",
       "        text-align: right;\n",
       "    }\n",
       "</style>\n",
       "<table border=\"1\" class=\"dataframe\">\n",
       "  <thead>\n",
       "    <tr style=\"text-align: right;\">\n",
       "      <th></th>\n",
       "      <th>Organisation</th>\n",
       "      <th>count</th>\n",
       "    </tr>\n",
       "  </thead>\n",
       "  <tbody>\n",
       "    <tr>\n",
       "      <th>0</th>\n",
       "      <td>Education</td>\n",
       "      <td>29438</td>\n",
       "    </tr>\n",
       "    <tr>\n",
       "      <th>1</th>\n",
       "      <td>None</td>\n",
       "      <td>101744</td>\n",
       "    </tr>\n",
       "    <tr>\n",
       "      <th>2</th>\n",
       "      <td>Government</td>\n",
       "      <td>34421</td>\n",
       "    </tr>\n",
       "    <tr>\n",
       "      <th>3</th>\n",
       "      <td>NGO</td>\n",
       "      <td>844</td>\n",
       "    </tr>\n",
       "    <tr>\n",
       "      <th>4</th>\n",
       "      <td>Influencer</td>\n",
       "      <td>3621</td>\n",
       "    </tr>\n",
       "  </tbody>\n",
       "</table>\n",
       "</div>"
      ],
      "text/plain": [
       "  Organisation   count\n",
       "0    Education   29438\n",
       "1         None  101744\n",
       "2   Government   34421\n",
       "3          NGO     844\n",
       "4   Influencer    3621"
      ]
     },
     "execution_count": 13,
     "metadata": {},
     "output_type": "execute_result"
    }
   ],
   "source": [
    "Organization.head()"
   ]
  },
  {
   "cell_type": "code",
   "execution_count": 14,
   "id": "10bcc1db-b5a2-4c05-aa6a-58367b56d0fd",
   "metadata": {},
   "outputs": [
    {
     "data": {
      "text/plain": [
       "<AxesSubplot:xlabel='Organisation', ylabel='Tweet Count'>"
      ]
     },
     "execution_count": 14,
     "metadata": {},
     "output_type": "execute_result"
    },
    {
     "data": {
      "image/png": "[encoded data removed]",
      "text/plain": [
       "<Figure size 640x480 with 1 Axes>"
      ]
     },
     "metadata": {},
     "output_type": "display_data"
    }
   ],
   "source": [
    "Organization.plot.line(x='Organisation',y='count',colormap='Paired',xlabel='Organisation',ylabel='Tweet Count')"
   ]
  },
  {
   "cell_type": "code",
   "execution_count": 15,
   "id": "6ec6ba9b-b5e3-43f7-8b8e-bc0488d73446",
   "metadata": {},
   "outputs": [
    {
     "data": {
      "text/plain": [
       "<AxesSubplot:xlabel='Organisation', ylabel='Tweet Count'>"
      ]
     },
     "execution_count": 15,
     "metadata": {},
     "output_type": "execute_result"
    },
    {
     "data": {
      "image/png": "[encoded data removed]",
      "text/plain": [
       "<Figure size 640x480 with 1 Axes>"
      ]
     },
     "metadata": {},
     "output_type": "display_data"
    }
   ],
   "source": [
    "Organization.plot.bar(x='Organisation',y='count',colormap='summer',xlabel='Organisation',ylabel='Tweet Count')"
   ]
  },
  {
   "cell_type": "code",
   "execution_count": 16,
   "id": "0f0c3d3a-7a55-4e02-88c4-68618be78b29",
   "metadata": {},
   "outputs": [],
   "source": [
    "filtered.createOrReplaceTempView(\"filtered\")"
   ]
  },
  {
   "cell_type": "code",
   "execution_count": 17,
   "id": "f07f41c7-1a49-45a8-ab30-f59a942b132b",
   "metadata": {},
   "outputs": [],
   "source": [
    "query = '''\n",
    "select retweeted as Retweeted,\n",
    "retweeted_status.id as r_status_id,\n",
    "retweeted_status.user.screen_name as r_status_user,\n",
    "retweeted_status.user.description as rt_desc,\n",
    "user.screen_name as Profile,\n",
    "user.description as Description,\n",
    "user.verified as user_verified,\n",
    "user.followers_count as followers,\n",
    "user.statuses_count as tweets_count\n",
    "from filtered'''\n",
    "a = spark.sql(query)"
   ]
  },
  {
   "cell_type": "code",
   "execution_count": 18,
   "id": "aafcc255-be70-41f9-9156-482843413bef",
   "metadata": {},
   "outputs": [],
   "source": [
    "b = a.withColumn(\"Organisation\",when(col(\"Description\").rlike('.*republic.*|.*congress.*|.*parliament.*|.*senat.*|.*president.*|.*democr.*|.*prime minister.*|.*Government.*|.*MLA.*|.*mla.*|.*gov.*|.*u.s..*|.*U.S..*|.*US.*|.*united states.*|.*government.*'),\"Government\")\n",
    "                .when(col(\"Description\").rlike('.*University.*|.*university.*|.*school.*|.*School.*|.*research.*|.*teaching.*|.*college.*|.*edu.*|.*graduate.*|.*undergraduate.*|.*bachelorsdegree.*|.*Bachelorsdegree.*|.*degree.*|.*Degree.*'),\"Education\")\n",
    "                .when(col(\"Description\").rlike('.*News.*|.*news.*|.*Media.*|.*media.*|.*journal.*|.*podcasts.*|.*podcast.*'),\"News\")\n",
    "                .when(col(\"Description\").rlike('.*nonprofit.*|.*Nonprofit.*|.*NGO.*|.*ngo.*|.*volunteers.*|.*Volunteers.*|.*Fundraising.*|.*fundraising.*|.*Charity.*|.*charity.*'),\"NGO\")\n",
    "                .when(col(\"Description\").rlike('.*influencer.*|.*Influencer.*|.*author.*|.*actress.*|.*musician.*|.*singer.*|.*crickter.*|.*Actor.*|.*actor.*|.*Actress.*|.*Cricter.*'),\"Celebrity\"))                                                           "
   ]
  },
  {
   "cell_type": "code",
   "execution_count": 19,
   "id": "14536002-6214-4205-985c-4a53a030760c",
   "metadata": {},
   "outputs": [],
   "source": [
    "b.createOrReplaceTempView(\"b\")"
   ]
  },
  {
   "cell_type": "code",
   "execution_count": 20,
   "id": "84ef8c5a-1801-4fd2-90e9-b4c63665f45a",
   "metadata": {},
   "outputs": [],
   "source": [
    "u = b.withColumn(\"R_Organisation\",when(col(\"Description\").rlike('.*republic.*|.*congress.*|.*parliament.*|.*senat.*|.*president.*|.*democr.*|.*prime minister.*|.*Government.*|.*MLA.*|.*mla.*|.*gov.*|.*u.s..*|.*U.S..*|.*US.*|.*united states.*|.*government.*'),\"Government\")\n",
    "                .when(col(\"Description\").rlike('.*University.*|.*university.*|.*school.*|.*School.*|.*research.*|.*teaching.*|.*college.*|.*edu.*|.*graduate.*|.*undergraduate.*|.*bachelorsdegree.*|.*Bachelorsdegree.*|.*degree.*|.*Degree.*'),\"Education\")\n",
    "                .when(col(\"Description\").rlike('.*News.*|.*news.*|.*Media.*|.*media.*|.*journal.*|.*podcasts.*|.*podcast.*'),\"News\")\n",
    "                .when(col(\"Description\").rlike('.*nonprofit.*|.*Nonprofit.*|.*NGO.*|.*ngo.*|.*volunteers.*|.*Volunteers.*|.*Fundraising.*|.*fundraising.*|.*Charity.*|.*charity.*'),\"NGO\")\n",
    "                .when(col(\"Description\").rlike('.*influencer.*|.*Influencer.*|.*author.*|.*actress.*|.*musician.*|.*singer.*|.*crickter.*|.*Actor.*|.*actor.*|.*Actress.*|.*Cricter.*'),\"Celebrity\"))                                                             "
   ]
  },
  {
   "cell_type": "code",
   "execution_count": 21,
   "id": "af16b04c-3ae2-430a-b314-0a5289f31d68",
   "metadata": {},
   "outputs": [],
   "source": [
    "u.createOrReplaceTempView(\"u\")"
   ]
  },
  {
   "cell_type": "code",
   "execution_count": null,
   "id": "78716a23-6fba-4ba1-ab6e-12557a57a412",
   "metadata": {},
   "outputs": [
    {
     "name": "stderr",
     "output_type": "stream",
     "text": [
      "                                                                                \r"
     ]
    }
   ],
   "source": [
    "df_tweet = spark.sql('select Organisation, count(*) from b group by Organisation').toPandas()"
   ]
  },
  {
   "cell_type": "code",
   "execution_count": null,
   "id": "7d0e34f4-e1f9-4031-a2ee-405542317779",
   "metadata": {},
   "outputs": [
    {
     "name": "stderr",
     "output_type": "stream",
     "text": [
      "                                                                                \r"
     ]
    }
   ],
   "source": [
    "df_retweet = spark.sql('select R_Organisation, count(*) from u where r_status_user is not null group by R_Organisation order by count(*) desc').toPandas()"
   ]
  },
  {
   "cell_type": "code",
   "execution_count": null,
   "id": "5eb63c34-ae0f-4ff5-ad7d-66a05efaf4bf",
   "metadata": {},
   "outputs": [],
   "source": [
    "df_retweet.fillna('Rest',inplace=True)"
   ]
  },
  {
   "cell_type": "code",
   "execution_count": null,
   "id": "cf78c283-c64c-41e4-9540-684e760f14b8",
   "metadata": {},
   "outputs": [],
   "source": [
    "df_tweet.fillna('Rest',inplace=True)"
   ]
  },
  {
   "cell_type": "code",
   "execution_count": null,
   "id": "f095e91d-7974-418e-9d06-73ad87139955",
   "metadata": {},
   "outputs": [],
   "source": [
    "df_tweet = df_tweet[df_tweet['Organisation'] != 'Rest']"
   ]
  },
  {
   "cell_type": "code",
   "execution_count": null,
   "id": "48e6f1be-c6ae-45a0-adde-b41351131d2f",
   "metadata": {},
   "outputs": [],
   "source": [
    "df_retweet = df_retweet[df_retweet['R_Organisation'] != 'None']"
   ]
  },
  {
   "cell_type": "code",
   "execution_count": null,
   "id": "dce2d638-3133-4842-ab51-fa522b77d65f",
   "metadata": {},
   "outputs": [],
   "source": [
    "df_tweet = df_tweet.sort_values(by='Organisation')"
   ]
  },
  {
   "cell_type": "code",
   "execution_count": null,
   "id": "e3a31179-2478-48ba-8bd3-7bcc53842342",
   "metadata": {},
   "outputs": [],
   "source": [
    "df_retweet = df_retweet.sort_values(by='R_Organisation')"
   ]
  },
  {
   "cell_type": "code",
   "execution_count": null,
   "id": "39ee60ac-9e5c-4c41-b7a2-b596b7092f15",
   "metadata": {},
   "outputs": [],
   "source": [
    "df_retweet.drop(df_retweet[df_retweet[\"R_Organisation\"] == \"Rest\"].index, inplace=True)"
   ]
  },
  {
   "cell_type": "code",
   "execution_count": null,
   "id": "937ba586-a216-4fc0-8965-c35f6faa24e2",
   "metadata": {},
   "outputs": [
    {
     "data": {
      "text/html": [
       "<div>\n",
       "<style scoped>\n",
       "    .dataframe tbody tr th:only-of-type {\n",
       "        vertical-align: middle;\n",
       "    }\n",
       "\n",
       "    .dataframe tbody tr th {\n",
       "        vertical-align: top;\n",
       "    }\n",
       "\n",
       "    .dataframe thead th {\n",
       "        text-align: right;\n",
       "    }\n",
       "</style>\n",
       "<table border=\"1\" class=\"dataframe\">\n",
       "  <thead>\n",
       "    <tr style=\"text-align: right;\">\n",
       "      <th></th>\n",
       "      <th>R_Organisation</th>\n",
       "      <th>count(1)</th>\n",
       "    </tr>\n",
       "  </thead>\n",
       "  <tbody>\n",
       "    <tr>\n",
       "      <th>4</th>\n",
       "      <td>Celebrity</td>\n",
       "      <td>88019</td>\n",
       "    </tr>\n",
       "    <tr>\n",
       "      <th>2</th>\n",
       "      <td>Education</td>\n",
       "      <td>585087</td>\n",
       "    </tr>\n",
       "    <tr>\n",
       "      <th>1</th>\n",
       "      <td>Government</td>\n",
       "      <td>953244</td>\n",
       "    </tr>\n",
       "    <tr>\n",
       "      <th>5</th>\n",
       "      <td>NGO</td>\n",
       "      <td>29124</td>\n",
       "    </tr>\n",
       "    <tr>\n",
       "      <th>3</th>\n",
       "      <td>News</td>\n",
       "      <td>255161</td>\n",
       "    </tr>\n",
       "  </tbody>\n",
       "</table>\n",
       "</div>"
      ],
      "text/plain": [
       "  R_Organisation  count(1)\n",
       "4      Celebrity     88019\n",
       "2      Education    585087\n",
       "1     Government    953244\n",
       "5            NGO     29124\n",
       "3           News    255161"
      ]
     },
     "execution_count": 31,
     "metadata": {},
     "output_type": "execute_result"
    }
   ],
   "source": [
    "df_retweet"
   ]
  },
  {
   "cell_type": "code",
   "execution_count": 42,
   "id": "849134de-aa43-4e6b-9722-0dca33c560c7",
   "metadata": {},
   "outputs": [
    {
     "data": {
      "image/png": "[encoded data removed]",
      "text/plain": [
       "<Figure size 1000x600 with 1 Axes>"
      ]
     },
     "metadata": {},
     "output_type": "display_data"
    }
   ],
   "source": [
    "import matplotlib.pyplot as plt\n",
    "import numpy as np\n",
    "\n",
    "# create subplots and set figure size\n",
    "fig, ax = plt.subplots(figsize=(10,6))\n",
    "\n",
    "# set index for each organization\n",
    "index = np.arange(len(df_tweet['Organisation']))\n",
    "index2 = np.arange(len(df_retweet['R_Organisation']))\n",
    "\n",
    "# set bar width and opacity\n",
    "bar_width = 0.35\n",
    "opacity = 0.8\n",
    "\n",
    "# plot bars for tweets and retweets\n",
    "ax.bar(index, df_tweet['count(1)'], color='#1f77b4', align='edge', width=bar_width, alpha=opacity, label='Tweets')\n",
    "ax.bar(index+bar_width, df_retweet['count(1)'], color='#9467bd', align='edge', width=bar_width, alpha=opacity, label='Retweets')\n",
    "\n",
    "# display count above each bar\n",
    "for i, count in enumerate(df_tweet['count(1)']):\n",
    "    ax.text(i + bar_width/2, count+1, str(count), ha='center', va='bottom')\n",
    "for i, count in enumerate(df_retweet['count(1)']):\n",
    "    ax.text(i + bar_width*1.5, count+1, str(count), ha='center', va='bottom')\n",
    "\n",
    "# set tick labels and rotation\n",
    "ax.set_xticks(index + bar_width)\n",
    "ax.set_xticklabels(df_tweet['Organisation'], rotation=45, ha='right')\n",
    "\n",
    "# set axis labels and legend\n",
    "ax.set_xlabel('Organisation', fontsize=12)\n",
    "ax.set_ylabel('Count', fontsize=12)\n",
    "ax.legend(fontsize=12)\n",
    "\n",
    "# set plot title and tighten layout\n",
    "plt.title('Number of Tweets and Retweets by Organisation', fontsize=14, fontweight='bold')\n",
    "fig.tight_layout()\n",
    "\n",
    "# show the plot\n",
    "plt.show()\n"
   ]
  },
  {
   "cell_type": "code",
   "execution_count": null,
   "id": "3cc480e6-c20a-4b93-a658-b37884d02122",
   "metadata": {},
   "outputs": [],
   "source": []
  },
  {
   "cell_type": "code",
   "execution_count": null,
   "id": "8f32281c-2fa4-43d9-9e80-077f0f7d4f1d",
   "metadata": {},
   "outputs": [],
   "source": []
  }
 ],
 "metadata": {
  "kernelspec": {
   "display_name": "Python 3 (ipykernel)",
   "language": "python",
   "name": "python3"
  },
  "language_info": {
   "codemirror_mode": {
    "name": "ipython",
    "version": 3
   },
   "file_extension": ".py",
   "mimetype": "text/x-python",
   "name": "python",
   "nbconvert_exporter": "python",
   "pygments_lexer": "ipython3",
   "version": "3.9.12"
  }
 },
 "nbformat": 4,
 "nbformat_minor": 5
}
